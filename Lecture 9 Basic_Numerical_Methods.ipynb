{
 "cells": [
  {
   "cell_type": "markdown",
   "id": "02fff001",
   "metadata": {},
   "source": [
    "# Basic Numerical Methods"
   ]
  },
  {
   "cell_type": "markdown",
   "id": "0f31c7ee",
   "metadata": {},
   "source": [
    "\n",
    "## 1. Least Squares Method and Regression Analysis\n"
   ]
  },
  {
   "cell_type": "markdown",
   "id": "90fb014d",
   "metadata": {},
   "source": [
    "\n",
    "### a. Least Squares Method\n",
    "\n",
    "The least squares method minimizes the sum of squared differences between observed and predicted values. It's used to find the best-fitting line in regression analysis.\n",
    "\n",
    "Mathematically:\n",
    "$$\n",
    "\t{Error} = \\sum_{i=1}^{n} (y_i - \\hat{y}_i)^2\n",
    "$$\n",
    "Where:\n",
    "$$\n",
    "(y_i) = actual value\n",
    "$$\n",
    "$$\n",
    "(\\hat{y}_i) = predicted value$$\n",
    "$$\n",
    "    "
   ]
  },
  {
   "cell_type": "markdown",
   "id": "b2385f3d",
   "metadata": {},
   "source": [
    "\n",
    "### b. Simple Linear Regression Example\n",
    "\n",
    "Goal of Linear Regression:\n",
    "\n",
    "We want to find the best-fitting line: \\( y = mx + b \\)"
   ]
  },
  {
   "cell_type": "code",
   "execution_count": null,
   "id": "7ffc3f66",
   "metadata": {},
   "outputs": [
    {
     "name": "stdout",
     "output_type": "stream",
     "text": [
      "Design Matrix A:\n",
      " [[1. 1.]\n",
      " [2. 1.]\n",
      " [3. 1.]\n",
      " [4. 1.]\n",
      " [5. 1.]]\n",
      "Slope (m): 0.7500000000000004\n",
      "Intercept (b): 1.3899999999999983\n",
      "Residuals: [0.027]\n",
      "Rank of matrix A: 2\n",
      "Singular values of A: [7.69121313 0.91936964]\n"
     ]
    },
    {
     "data": {
      "image/png": "[encoded data removed]",
      "text/plain": [
       "<Figure size 640x480 with 1 Axes>"
      ]
     },
     "metadata": {},
     "output_type": "display_data"
    }
   ],
   "source": [
    "import numpy as np\n",
    "import matplotlib.pyplot as plt\n",
    "\n",
    "# Step 1: Design matrix construction based on data points\n",
    "x = np.array([1, 2, 3, 4, 5])\n",
    "y = np.array([2.2,2.8,3.6,4.5,5.1])\n",
    "\n",
    "# Step 2: Build matrix A: Each row represents the linear model y=mx+c.\n",
    "A = np.vstack([x, np.ones(len(x))]).T # Stack x and a column of ones and then transpose it\n",
    "print (\"Design Matrix A:\\n\", A) # The first column is the value of x. The second column is always 1, which allows us to solve for the intercept c.\n",
    "\n",
    "# Step 3: Fit line using least squares- it solves for the slope m and intercept c of the best-fit line\n",
    "# np.linalg.lstsq returns a tuple (coeffs, residuals, rank, s), so unpack accordingly.\n",
    "coeffs, residuals, rank, s = np.linalg.lstsq(A, y, rcond=None)\n",
    "m = coeffs[0]\n",
    "b = coeffs[1]\n",
    "\n",
    "# Step 4: Output the results and plot them\n",
    "print(\"Slope (m):\", m)\n",
    "print(\"Intercept (b):\", b)\n",
    "print(\"Residuals:\", residuals)\n",
    "print(\"Rank of matrix A:\", rank)\n",
    "print(\"Singular values of A:\", s) \n",
    "\n",
    "plt.scatter(x, y, label='Data')\n",
    "plt.plot(x, m*x + b, 'r', label='Fitted line')\n",
    "plt.legend()\n",
    "plt.title('Linear Regression')\n",
    "plt.xlabel('x')\n",
    "plt.ylabel('y')\n",
    "plt.grid(True)\n",
    "plt.show()\n"
   ]
  },
  {
   "cell_type": "markdown",
   "id": "5faa5fd5",
   "metadata": {},
   "source": [
    "#### Exercise- Make up a set of data and find their best fit using least squares linear regression."
   ]
  },
  {
   "cell_type": "code",
   "execution_count": null,
   "id": "e3fade25",
   "metadata": {},
   "outputs": [],
   "source": [
    "# Your code here"
   ]
  },
  {
   "cell_type": "markdown",
   "id": "11f2bffb",
   "metadata": {},
   "source": [
    "\n",
    "## 2. Root Finding Methods in Numerical Analysis\n",
    "\n",
    "This notebook demonstrates two popular numerical methods for finding roots of equations:\n",
    "\n",
    "1. **Bisection Method**\n",
    "2. **Newton-Raphson Method**\n",
    "\n",
    "We will use the function:\n",
    "\\[ f(x) = x^3 - 2x - 5 \\]\n"
   ]
  },
  {
   "cell_type": "markdown",
   "id": "0d658ac3",
   "metadata": {},
   "source": [
    "\n",
    "### a. Bisection Method\n",
    "\n",
    "The Bisection Method is a simple and robust technique for finding roots of a continuous function. It works by repeatedly halving an interval and selecting the subinterval in which the function changes sign.\n",
    "\n",
    "#### Algorithm Steps:\n",
    "1. Define the function f(x)\n",
    "2. Choose interval [a, b] where f(a) * f(b) < 0\n",
    "3. Repeat until convergence:\n",
    "   - Compute midpoint c = (a + b)/2\n",
    "   - Evaluate f(c)\n",
    "   - If f(c) * f(a) < 0, set b = c\n",
    "   - Else, set a = c\n",
    "   - Stop when |f(c)| is small enough\n"
   ]
  },
  {
   "cell_type": "code",
   "execution_count": 34,
   "id": "76bf1abd",
   "metadata": {},
   "outputs": [
    {
     "name": "stdout",
     "output_type": "stream",
     "text": [
      "f(a): -16\n",
      "f(c): 5.625\n",
      "yes\n",
      "5.625\n",
      "<0\n",
      "-5.625\n"
     ]
    }
   ],
   "source": [
    "# Complete the Bisection Method implementation\n",
    "def f(x):\n",
    "    return x**3 - 2*x - 5\n",
    "a = 2; b = 3; c = (a + b)/2\n",
    "fab = f(a) * f(b)\n",
    "print(\"f(a):\",fab)\n",
    "fca = f(c) * f(a)\n",
    "print(\"f(c):\",f(c))\n",
    "if fab >= 0:\n",
    "    a = c\n",
    "\n",
    "if fab < 0:\n",
    "    print(\"yes\")\n",
    "else:\n",
    "    print(\"no\")\n",
    "print(f(c))\n",
    "fca = f(c) * f(a)\n",
    "\n",
    "if fca < 0:\n",
    "    b = c\n",
    "    print(\"<0\")\n",
    "else:\n",
    "    a = c\n",
    "    print(\">0\")\n",
    "print(fca)\n",
    "# print(\"Root found using Bisection Method:\", root_bisection)\n",
    "# Your code to plot the function and the root found\n"
   ]
  },
  {
   "cell_type": "code",
   "execution_count": 46,
   "id": "833434ee",
   "metadata": {},
   "outputs": [
    {
     "name": "stdout",
     "output_type": "stream",
     "text": [
      "f(a): -1\n",
      "f(b): 16\n",
      "f(a)*f(b): -16\n",
      "iteration: 1\n",
      "f(c): 5.625\n",
      "iteration: 2\n",
      "f(c): 1.890625\n",
      "iteration: 3\n",
      "f(c): 0.345703125\n",
      "iteration: 4\n",
      "f(c): -0.351318359375\n",
      "iteration: 5\n",
      "f(c): -0.008941650390625\n",
      "iteration: 6\n",
      "f(c): 0.16683578491210938\n",
      "iteration: 7\n",
      "f(c): 0.07856225967407227\n",
      "iteration: 8\n",
      "f(c): 0.03471428155899048\n",
      "iteration: 9\n",
      "f(c): 0.012862332165241241\n",
      "iteration: 10\n",
      "f(c): 0.00195434782654047\n",
      "iteration: 11\n",
      "f(c): -0.003495149197988212\n",
      "iteration: 12\n",
      "f(c): -0.0007707752083661035\n",
      "iteration: 13\n",
      "f(c): 0.000591692672969657\n",
      "iteration: 14\n",
      "f(c): -8.956467604548379e-05\n",
      "iteration: 15\n",
      "f(c): 0.00025105814629000633\n",
      "iteration: 16\n",
      "f(c): 8.074527208989934e-05\n",
      "iteration: 17\n",
      "f(c): -4.410067734994527e-06\n",
      "iteration: 18\n",
      "f(c): 3.8167510737707744e-05\n",
      "iteration: 19\n",
      "f(c): 1.6878698641420442e-05\n",
      "iteration: 20\n",
      "f(c): 6.234309738673005e-06\n",
      "iteration: 21\n",
      "f(c): 9.121195727601616e-07\n",
      "-4.022509098286582e-12\n"
     ]
    }
   ],
   "source": [
    "# Dr. Han's code\n",
    "def f(x):\n",
    "    return x**3 - 2*x - 5\n",
    "max_iteration = 100\n",
    "tolerance = 0.000001\n",
    "a = 2; b = 3\n",
    "print(\"f(a):\",f(a));print(\"f(b):\",f(b))\n",
    "fab = f(a) * f(b)\n",
    "print(\"f(a)*f(b):\",fab)\n",
    "\n",
    "i = 0\n",
    "while i <= max_iteration:\n",
    "    print(\"iteration:\", i+1)\n",
    "    c = (a + b)/2\n",
    "    print(\"f(c):\",f(c))\n",
    "    if f(c) * f(a) < 0:\n",
    "        b = c\n",
    "    else:\n",
    "        a = c\n",
    "    i += 1\n",
    "    if abs(f(c)) <= tolerance:\n",
    "        root_bisection = c\n",
    "        break\n",
    "print(f(a) * f(b))"
   ]
  },
  {
   "cell_type": "markdown",
   "id": "fffaf4bb",
   "metadata": {},
   "source": [
    "\n",
    "### b. Newton-Raphson Method\n",
    "\n",
    "The Newton-Raphson Method is an efficient technique for finding roots using the function's derivative.\n",
    "\n",
    "#### Algorithm Steps:\n",
    "1. Define the function and its deriative\n",
    "\n",
    "2. Start with an initial guess \\( x_0 \\).\n",
    "\n",
    "3. Repeat \n",
    "   Compute the next approximation using:\n",
    "\n",
    "   $$ x_{n+1} = x_n - \\frac{f(x_n)}{f'(x_n)} $$\n",
    "\n",
    "   Until:\n",
    "\n",
    "   $$ |x_{n+1} - x_n| < \\varepsilon $$\n",
    "\n",
    "4. Return the final approximation $$ x_{n+1} $$ as the root.\n",
    "\n"
   ]
  },
  {
   "cell_type": "code",
   "execution_count": 56,
   "id": "38830cf1",
   "metadata": {},
   "outputs": [
    {
     "name": "stdout",
     "output_type": "stream",
     "text": [
      "iteration: 1\n",
      "7.0\n",
      "iteration: 2\n",
      "4.76551724137931\n",
      "iteration: 3\n",
      "3.3487027594802825\n",
      "iteration: 4\n",
      "2.53159964100251\n",
      "iteration: 5\n",
      "2.1739158849392317\n",
      "iteration: 6\n",
      "2.097883686441764\n",
      "iteration: 7\n",
      "2.0945577158500575\n",
      "iteration: 8\n",
      "2.0945514815642077\n",
      "iteration: 9\n",
      "2.0945514815423265\n",
      "Root found using Newton-Raphson Method: 2.0945514815642077\n"
     ]
    }
   ],
   "source": [
    "# Complete the Newton-Raphson Method implementation\n",
    "def f(x):\n",
    "    return x**3 - 2*x - 5\n",
    "\n",
    "def df(x):\n",
    "    return 3*x**2 - 2\n",
    "max_iteration = 100\n",
    "tolerance = 0.000001\n",
    "i = 0\n",
    "xn=1\n",
    "while i <= max_iteration:\n",
    "    print(\"iteration:\", i+1)\n",
    "    xn1 = xn - (f(xn)/df(xn))\n",
    "    print(xn1)\n",
    "    i += 1\n",
    "    if abs(xn1-xn) <= tolerance:\n",
    "        break\n",
    "    else:\n",
    "        xn = xn1\n",
    "\n",
    "root_newton=xn\n",
    "print(\"Root found using Newton-Raphson Method:\", root_newton)\n"
   ]
  },
  {
   "cell_type": "markdown",
   "id": "39cbbde8",
   "metadata": {},
   "source": [
    "### Root finding exercise: Beam Deflection\n",
    "\n",
    "A simply supported beam of length (L = 10m ) is subjected to a uniformly distributed load w = 5 kN/m. The deflection y(x) of the beam at a distance x from the left support is given by:\n",
    "\n",
    "$$\n",
    "y(x) = \\frac{w}{24EI} \\, x \\left( L^3 - 2Lx^2 + x^3 \\right)\n",
    "$$\n",
    "\n",
    "#### 🎯 Task:\n",
    "Use a root-finding method (e.g., Newton-Raphson or Bisection) to find the position \\( x \\) along the beam where the **maximum deflection** occurs.\n",
    "\n",
    "#### 💡 Hint:\n",
    "To find the maximum deflection:\n",
    "1. Compute the derivative y'(x) \n",
    "2. Solve y'(x) = 0  within the interval x in [0, L] \n",
    "\n",
    "#### 📌 Constants:\n",
    "- L = 10 \n",
    "- w = 5 \n",
    "- E and I are constants (you may assume EI = 1 for simplicity)"
   ]
  },
  {
   "cell_type": "code",
   "execution_count": null,
   "id": "70d8c122",
   "metadata": {},
   "outputs": [],
   "source": [
    "def y(x):\n",
    "    return w/(24EI) * x(L**3 - 2*L*(x**2)+ x**3)\n",
    "\n",
    "def df(x):\n",
    "    return 3*x**2 - 2\n",
    "\n",
    "maximum = dy(x) = 0\n",
    "max_iteration = 100\n",
    "tolerance = 0.000001\n",
    "i = 0\n",
    "xn=1\n",
    "while i <= max_iteration:\n",
    "    print(\"iteration:\", i+1)\n",
    "    xn1 = xn - (f(xn)/df(xn))\n",
    "    print(xn1)\n",
    "    i += 1\n",
    "    if abs(xn1-xn) <= tolerance:\n",
    "        break\n",
    "    else:\n",
    "        xn = xn1\n",
    "\n",
    "root_newton=xn\n",
    "print(\"Root found using Newton-Raphson Method:\", root_newton)"
   ]
  }
 ],
 "metadata": {
  "kernelspec": {
   "display_name": "base",
   "language": "python",
   "name": "python3"
  },
  "language_info": {
   "codemirror_mode": {
    "name": "ipython",
    "version": 3
   },
   "file_extension": ".py",
   "mimetype": "text/x-python",
   "name": "python",
   "nbconvert_exporter": "python",
   "pygments_lexer": "ipython3",
   "version": "3.13.5"
  }
 },
 "nbformat": 4,
 "nbformat_minor": 5
}
