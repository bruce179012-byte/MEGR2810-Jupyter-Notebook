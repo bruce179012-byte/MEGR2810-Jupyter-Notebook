{
 "cells": [
  {
   "cell_type": "markdown",
   "id": "bf181aa5",
   "metadata": {},
   "source": [
    "## Review on if statements "
   ]
  },
  {
   "cell_type": "markdown",
   "id": "48ee0ef5",
   "metadata": {},
   "source": [
    "## 🧊 Simulate a Thermostat\n",
    "Ask the user for the current temperature and print:\n",
    "- “It’s cold” if < 60°F\n",
    "- “It’s comfortable” if between 60°F and 75°F\n",
    "- “It’s hot” if > 75°F"
   ]
  },
  {
   "cell_type": "code",
   "execution_count": 9,
   "id": "51140bb1",
   "metadata": {},
   "outputs": [
    {
     "name": "stdout",
     "output_type": "stream",
     "text": [
      "It is warm!\n"
     ]
    }
   ],
   "source": [
    "temperature = input(\"Enter the current temperature in Fahrenheit: \")\n",
    "# Your code here\n",
    "temp = float(temperature) # turn str into float\n",
    "if temp > 75: \n",
    "    print(\"It is hot!\")\n",
    "elif temp < 65:\n",
    "    print(\"It is cold!\")\n",
    "else:\n",
    "    print(\"It is warm!\")"
   ]
  },
  {
   "cell_type": "markdown",
   "id": "c69bd652",
   "metadata": {},
   "source": [
    "## 🌊 Fluid Flow Calculation\n",
    "\n",
    "You are analyzing fluid flow in a pipe. The flow regime depends on the Reynolds number, which is calculated using:\n",
    "Re = (ρDv)/ μ.\n",
    "\n",
    "Where:\n",
    "Re = Reynolds number, a dimensionless number;\n",
    "ρ = density of the fluid;\n",
    "D = diameter of the passage way;\n",
    "v = velocity of the fluid;\n",
    "μ = viscosity of the fluid.\n",
    "\n",
    "Write a program that:\n",
    "- Asks for fluid properties and flow velocity.\n",
    "- Calculates Reynolds number.\n",
    "- Uses nested conditionals to classify the flow as:\n",
    "  - Laminar (Re < 2000)\n",
    "  - Transitional (2000 ≤ Re ≤ 4000)\n",
    "  - Turbulent (Re > 4000)\n"
   ]
  },
  {
   "cell_type": "code",
   "execution_count": 10,
   "id": "bed535c4",
   "metadata": {},
   "outputs": [
    {
     "name": "stdout",
     "output_type": "stream",
     "text": [
      "The Reynolds number is: 280.06\n",
      "It is laminar\n"
     ]
    }
   ],
   "source": [
    "# Get Fluid Velocity and Pipe Diameter       \n",
    "v =  input (\"Enter flow velocity (m/s): \")            # Ask use to enter flow velocity (m/s)\n",
    "D =  input (\"Enter pipe diameter (m): \")              # Ask user to enter pipe diameter (m)\n",
    "# Constants\n",
    "rho = 997        # Water density ρ (kg/m^3)  \n",
    "mu = 0.00089     # Dynamic viscosity of Water μ (Pa·s)   \n",
    "\n",
    "# Convert inputs to float\n",
    "v = float(v)\n",
    "D = float(D) # if you don't convert, you will get an error when you try to do math with strings\n",
    "\n",
    "# Calculate Reynolds number\n",
    "# Your code here \n",
    "Re = (rho * v * D)/mu\n",
    "Re = round(Re, 2)\n",
    "\n",
    "# Print the result\n",
    "print(\"The Reynolds number is: \" + str(Re)) # Note that str() converts a number to a string for Re. \n",
    "\n",
    "# Your code here\n",
    "if Re > 4000:\n",
    "    print (\"It is turbulent.\")\n",
    "elif Re < 2000:\n",
    "    print (\"It is laminar\")\n",
    "else:\n",
    "    print(\"It is transitional.\")"
   ]
  },
  {
   "cell_type": "markdown",
   "id": "da140da0",
   "metadata": {},
   "source": [
    "## More on loops- Lecture 4 "
   ]
  },
  {
   "cell_type": "markdown",
   "id": "18bb680b",
   "metadata": {},
   "source": [
    "## 🔩 Bolt Counter\n",
    "\n",
    "A machine uses bolts in sets of 4 per assembly. Calculate how many bolts are needed for 10 assemblies. Print a message every time an assembly is completed.\n",
    "assemblies = 10\n",
    "bolts_per_assembly = 4\n"
   ]
  },
  {
   "cell_type": "code",
   "execution_count": 11,
   "id": "6839b8c5",
   "metadata": {},
   "outputs": [
    {
     "name": "stdout",
     "output_type": "stream",
     "text": [
      "Assembly 1 completed. Total bolts used: 13\n",
      "Assembly 2 completed. Total bolts used: 26\n",
      "Assembly 3 completed. Total bolts used: 39\n",
      "Assembly 4 completed. Total bolts used: 52\n",
      "Assembly 5 completed. Total bolts used: 65\n",
      "Assembly 6 completed. Total bolts used: 78\n",
      "Assembly 7 completed. Total bolts used: 91\n",
      "Assembly 8 completed. Total bolts used: 104\n",
      "Assembly 9 completed. Total bolts used: 117\n",
      "Assembly 10 completed. Total bolts used: 130\n",
      "Total bolts needed for 10 assemblies: 130\n"
     ]
    }
   ],
   "source": [
    "assemblies = 10\n",
    "bolts_per_assembly = 13\n",
    "total_bolts = 0\n",
    "\n",
    "# Loop through each assembly\n",
    "for i in range(1, assemblies + 1): # from 1 to 10 inclusive. Need +1 because range is exclusive of the end value.\n",
    "\n",
    "    # Your code here # adding bolts for current assembly to total\n",
    "    total_bolts = total_bolts + bolts_per_assembly # total_bolts = total_bolts + bolts_per_assembly\n",
    "    print(f\"Assembly {i} completed. Total bolts used: {total_bolts}\") # Using f-string to print\n",
    "\n",
    "print(f\"Total bolts needed for {assemblies} assemblies: {total_bolts}\") # Final output of total bolts needed"
   ]
  },
  {
   "cell_type": "code",
   "execution_count": 8,
   "id": "021ddcab",
   "metadata": {},
   "outputs": [
    {
     "name": "stdout",
     "output_type": "stream",
     "text": [
      "Assemblies 1 completed. Total bolts used: 4\n",
      "Assemblies 2 completed. Total bolts used: 8\n",
      "Assemblies 3 completed. Total bolts used: 12\n",
      "Assemblies 4 completed. Total bolts used: 16\n",
      "Assemblies 5 completed. Total bolts used: 20\n",
      "Assemblies 6 completed. Total bolts used: 24\n",
      "Assemblies 7 completed. Total bolts used: 28\n",
      "Assemblies 8 completed. Total bolts used: 32\n",
      "Assemblies 9 completed. Total bolts used: 36\n",
      "Assemblies 10 completed. Total bolts used: 40\n"
     ]
    }
   ],
   "source": [
    "assemblies = 1\n",
    "bolts_per_assembly = 4\n",
    "total_bolts = 0\n",
    "\n",
    "while assemblies <= 10:\n",
    "    total_bolts += bolts_per_assembly\n",
    "    print(f\"Assemblies {assemblies} completed. Total bolts used: {total_bolts}\")\n",
    "    assemblies +=1"
   ]
  },
  {
   "cell_type": "markdown",
   "id": "c63188b6",
   "metadata": {},
   "source": [
    "## ❄️ Cooling Curve Generator\n",
    "\n",
    "Simulate the cooling of a metal block using Newton’s Law of Cooling: T(t) = T_env + (T0 - T_env) * e^(-kt)."
   ]
  },
  {
   "cell_type": "code",
   "execution_count": 12,
   "id": "45a0eac6",
   "metadata": {},
   "outputs": [
    {
     "name": "stdout",
     "output_type": "stream",
     "text": [
      "At 0 minute, temperature is 100.00 °C\n",
      "At 1 minute, temperature is 92.86 °C\n",
      "At 2 minute, temperature is 86.40 °C\n",
      "At 3 minute, temperature is 80.56 °C\n",
      "At 4 minute, temperature is 75.27 °C\n",
      "At 5 minute, temperature is 70.49 °C\n",
      "At 6 minute, temperature is 66.16 °C\n",
      "At 7 minute, temperature is 62.24 °C\n",
      "At 8 minute, temperature is 58.70 °C\n",
      "At 9 minute, temperature is 55.49 °C\n",
      "At 10 minute, temperature is 52.59 °C\n"
     ]
    }
   ],
   "source": [
    "import math\n",
    "\n",
    "T_env = 25  # ambient temperature in °C\n",
    "T0 = 100  # initial temperature in °C\n",
    "k = 0.1  # cooling constant\n",
    "time_steps = range(0, 11)  # time from 0 to 10 minutes\n",
    "\n",
    "# Loop through time steps\n",
    "for t in time_steps:\n",
    "    # Your code here\n",
    "    T_t = T_env + (T0 - T_env) * math.exp(- k * t)\n",
    "    print(f\"At {t} minute, temperature is {T_t:.2f} °C\")"
   ]
  },
  {
   "cell_type": "code",
   "execution_count": 42,
   "id": "5c1aad3b",
   "metadata": {},
   "outputs": [
    {
     "name": "stdout",
     "output_type": "stream",
     "text": [
      "At 0 minutes, temperature is 100.00 °C\n",
      "At 1 minute, temperature is 92.86 °C\n",
      "At 2 minutes, temperature is 86.40 °C\n",
      "At 3 minutes, temperature is 80.56 °C\n",
      "At 4 minutes, temperature is 75.27 °C\n",
      "At 5 minutes, temperature is 70.49 °C\n",
      "At 6 minutes, temperature is 66.16 °C\n",
      "At 7 minutes, temperature is 62.24 °C\n",
      "At 8 minutes, temperature is 58.70 °C\n",
      "At 9 minutes, temperature is 55.49 °C\n",
      "At 10 minutes, temperature is 52.59 °C\n"
     ]
    }
   ],
   "source": [
    "import math\n",
    "\n",
    "T_env = 25\n",
    "T0 = 100\n",
    "k = 0.1\n",
    "time_steps = 0\n",
    "t = time_steps\n",
    "\n",
    "while t <= 10:\n",
    "    T_t = T_env + (T0 - T_env) * math.exp(- k * t)\n",
    "\n",
    "    if t == 1:\n",
    "        mins = \"minute\"\n",
    "    else:\n",
    "        mins = \"minutes\"\n",
    "\n",
    "    print(f\"At {t} \" + mins + f\", temperature is {T_t:.2f} °C\")\n",
    "    t += 1\n",
    " # could also work by replacing all variables t with time_steps"
   ]
  },
  {
   "cell_type": "markdown",
   "id": "bd7d5878",
   "metadata": {},
   "source": [
    "## 🌊 Simple Harmonic Motion Tracker\n",
    "\n",
    "Simulate the position of a spring-mass system over time using x(t) = A * cos(ωt). ω is the angular frequency in rad/s, which equals to 2πf. f is the linear frequency in hertz (1/second). Print out the position at each time step. Make sure you can see a Cos function in your output."
   ]
  },
  {
   "cell_type": "code",
   "execution_count": 45,
   "id": "bbd2b889",
   "metadata": {},
   "outputs": [
    {
     "name": "stdout",
     "output_type": "stream",
     "text": [
      "At t= 0, x(t)=  1.0000\n",
      "At t= 1, x(t)=  0.9980\n",
      "At t= 2, x(t)=  0.9921\n",
      "At t= 3, x(t)=  0.9823\n",
      "At t= 4, x(t)=  0.9686\n",
      "At t= 5, x(t)=  0.9511\n",
      "At t= 6, x(t)=  0.9298\n",
      "At t= 7, x(t)=  0.9048\n",
      "At t= 8, x(t)=  0.8763\n",
      "At t= 9, x(t)=  0.8443\n",
      "At t= 10, x(t)=  0.8090\n"
     ]
    }
   ],
   "source": [
    "# The following code has errors. Please fix them.\n",
    "import math\n",
    "\n",
    "A = 1  # amplitude in meters\n",
    "frequency = 0.01 # in Hz \n",
    "omega = 2 * math.pi * frequency  # angular frequency in rad/s\n",
    "time_steps = range(0, 11)  # time from 0 to xx seconds. You can change xx.\n",
    "\n",
    "# Loop through time steps\n",
    "for t in time_steps:\n",
    "    # Your code here\n",
    "    x = A * math.cos(omega * t)\n",
    "    print(f\"At t= {t}, x(t)= {x: .4f}\")\n"
   ]
  },
  {
   "cell_type": "code",
   "execution_count": 51,
   "id": "36b08386",
   "metadata": {},
   "outputs": [
    {
     "name": "stdout",
     "output_type": "stream",
     "text": [
      "At t = 0, x(t) =  1.0000\n",
      "At t = 1, x(t) =  0.9980\n",
      "At t = 2, x(t) =  0.9921\n",
      "At t = 3, x(t) =  0.9823\n",
      "At t = 4, x(t) =  0.9686\n",
      "At t = 5, x(t) =  0.9511\n",
      "At t = 6, x(t) =  0.9298\n",
      "At t = 7, x(t) =  0.9048\n",
      "At t = 8, x(t) =  0.8763\n",
      "At t = 9, x(t) =  0.8443\n",
      "At t = 10, x(t) =  0.8090\n"
     ]
    }
   ],
   "source": [
    "import math\n",
    "amplitude = 1\n",
    "frequency = 0.01\n",
    "omega = 2 * math.pi * frequency\n",
    "t = time_steps = 0\n",
    "\n",
    "# while t <= 10: # can vary\n",
    "   # x = amplitude * math.cos(omega * t)\n",
    "   # print(f\"At t = {t}, x(t) = {x: .4f}\")\n",
    "   # t += 1\n",
    "\n",
    "while time_steps <= 10: # can vary\n",
    "    x = amplitude * math.cos(omega * time_steps)\n",
    "    print(f\"At t = {time_steps}, x(t) = {x: .4f}\")\n",
    "    time_steps += 1\n",
    "\n",
    "# turns out you can assign a variable to another variable in the same string"
   ]
  },
  {
   "cell_type": "markdown",
   "id": "1f4170de",
   "metadata": {},
   "source": [
    "## 📚 Study Timer\n",
    "\n",
    "Loop through 5 study sessions of 25 minutes each. After each session, print the session number and \"Take a 5-minute break!\".\n",
    "\n",
    "Track total study time and break time and print them out at the end."
   ]
  },
  {
   "cell_type": "code",
   "execution_count": 52,
   "id": "8fde8ef8",
   "metadata": {},
   "outputs": [
    {
     "name": "stdout",
     "output_type": "stream",
     "text": [
      "Session 1 ends: Take a 5-minute break.\n",
      "Session 2 ends: Take a 5-minute break.\n",
      "Session 3 ends: Take a 5-minute break.\n",
      "Session 4 ends: Take a 5-minute break.\n",
      "Session 5 ends: Take a 5-minute break.\n",
      "Total study time: 125 minutes\n",
      "Total break time: 25 minutes\n"
     ]
    }
   ],
   "source": [
    "study_sessions = 5\n",
    "study_time = 0\n",
    "break_time = 0\n",
    "study_per_session = 25\n",
    "break_per_session = 5\n",
    "\n",
    "for session in range (1, study_sessions + 1):\n",
    "    study_time += study_per_session\n",
    "    break_time += break_per_session\n",
    "    print(f\"Session {session} ends: Take a 5-minute break.\")\n",
    "print(f\"Total study time: {study_time} minutes\")\n",
    "print(f\"Total break time: {break_time} minutes\")"
   ]
  },
  {
   "cell_type": "code",
   "execution_count": 55,
   "id": "159d8871",
   "metadata": {},
   "outputs": [
    {
     "name": "stdout",
     "output_type": "stream",
     "text": [
      "Session 1 ends: Take a 10-minute break.\n",
      "Session 2 ends: Take a 10-minute break.\n",
      "Total study time: 70 minutes\n",
      "Total break_time: 20 minutes\n"
     ]
    }
   ],
   "source": [
    "study_sessions = 2\n",
    "study_time = 0\n",
    "break_time = 0\n",
    "study_per_session = 35\n",
    "break_per_session = 10\n",
    "session = 1 # starting to get the hang of a while loop, makes more sense starting at some number n.\n",
    "\n",
    "while session <= study_sessions:\n",
    "    study_time += study_per_session\n",
    "    break_time += break_per_session\n",
    "    print(f\"Session {session} ends: Take a 10-minute break.\")\n",
    "    session += 1\n",
    "print(f\"Total study time: {study_time} minutes\")\n",
    "print(f\"Total break_time: {break_time} minutes\")\n",
    "\n",
    "# slowly getting the hang of a while loop, probably have to relearn it in due time"
   ]
  },
  {
   "cell_type": "markdown",
   "id": "a7f7b3fd",
   "metadata": {},
   "source": [
    "## 🏃 Step Counter\n",
    "\n",
    "Simulate a pedometer that logs steps every minute. Loop through 60 minutes and sum the total steps.\n",
    "Use random.randint(80, 120) to simulate steps per minute."
   ]
  },
  {
   "cell_type": "code",
   "execution_count": null,
   "id": "96fcb3bd",
   "metadata": {},
   "outputs": [
    {
     "name": "stdout",
     "output_type": "stream",
     "text": [
      "Minute 1: 110 steps\n",
      "Minute 2: 92 steps\n",
      "Minute 3: 112 steps\n",
      "Minute 4: 110 steps\n",
      "Minute 5: 82 steps\n",
      "Minute 6: 100 steps\n",
      "Minute 7: 85 steps\n",
      "Minute 8: 96 steps\n",
      "Minute 9: 105 steps\n",
      "Minute 10: 94 steps\n",
      "Minute 11: 109 steps\n",
      "Minute 12: 104 steps\n",
      "Minute 13: 119 steps\n",
      "Minute 14: 109 steps\n",
      "Minute 15: 90 steps\n",
      "Total steps in 1 hour: 1517\n"
     ]
    }
   ],
   "source": [
    "import random\n",
    "total_steps = 0\n",
    "minute = 0\n",
    "# Loop for each minute in an hour\n",
    "for minute in range (15): \n",
    "    minute = minute + 1\n",
    "    steps = random.randint(80,120) # Your code here to increase the total steps by a random number between 80 and 120. \n",
    "    total_steps = total_steps + steps \n",
    "    print(f\"Minute {minute}: {steps} steps\")\n",
    "\n",
    "print(f\"Total steps in 1 hour: {total_steps}\")"
   ]
  },
  {
   "cell_type": "code",
   "execution_count": null,
   "id": "a6fd6c44",
   "metadata": {},
   "outputs": [
    {
     "name": "stdout",
     "output_type": "stream",
     "text": [
      "Minute 1: 113 steps\n",
      "Minute 2: 108 steps\n",
      "Minute 3: 104 steps\n",
      "Minute 4: 107 steps\n",
      "Minute 5: 77 steps\n",
      "Minute 6: 123 steps\n",
      "Minute 7: 103 steps\n",
      "Minute 8: 111 steps\n",
      "Minute 9: 118 steps\n",
      "Minute 10: 103 steps\n",
      "Minute 11: 106 steps\n",
      "Minute 12: 117 steps\n",
      "Minute 13: 114 steps\n",
      "Minute 14: 66 steps\n",
      "Minute 15: 98 steps\n",
      "Total steps in 15 minutes: 1568\n"
     ]
    }
   ],
   "source": [
    "import random\n",
    "total_steps = 0\n",
    "minute = 0\n",
    "# hour = 0\n",
    "\n",
    "# while hour < 10:\n",
    "#    hour += 1\n",
    "#    hour_steps = random.randint(80*60,120*60)\n",
    "while minute < 15:\n",
    "    minute += 1\n",
    "    minute_steps = random.randint(65,125)\n",
    "#    print(f\"Hour {hour}, Minute {minute}: {hour_steps + minute_steps} steps\")\n",
    "    print(f\"Minute {minute}: {minute_steps} steps\")\n",
    "    total_steps += minute_steps\n",
    "\n",
    "\n",
    "#hr_min_steps = hour_steps + minute_steps\n",
    "\n",
    "#print(f\"Hour {hour}, Minute {minute}: {hr_min_steps} steps\")\n",
    "    \n",
    "#total_steps += hour_steps + minute_steps\n",
    "\n",
    "print(f\"Total steps in {minute} minutes: {total_steps}\")\n",
    "\n",
    "# Tried to include hours, but a bit out of my paygrade (too late to think good)"
   ]
  },
  {
   "cell_type": "markdown",
   "id": "1c31ade7",
   "metadata": {},
   "source": [
    "## 🔁 Material Fatigue Counter\n",
    "\n",
    "Count how many cycles a material can endure before failure. Reduce strength slightly each cycle (you decide the deduction) and stop when it drops below a threshold."
   ]
  },
  {
   "cell_type": "code",
   "execution_count": 89,
   "id": "40731dc7",
   "metadata": {},
   "outputs": [
    {
     "name": "stdout",
     "output_type": "stream",
     "text": [
      "Cycle 1- Current strength is 950.00\n",
      "Cycle 2- Current strength is 900.00\n",
      "Cycle 3- Current strength is 850.00\n",
      "Cycle 4- Current strength is 800.00\n",
      "Cycle 5- Current strength is 750.00\n",
      "Cycle 6- Current strength is 700.00\n",
      "Material failed after 6 cycles.\n"
     ]
    }
   ],
   "source": [
    "initial_strength = 1000  # arbitrary units\n",
    "threshold = 700\n",
    "strength = initial_strength\n",
    "cycle = 0\n",
    "\n",
    "# Your code here\n",
    "while strength > threshold:\n",
    "    deduction = initial_strength * 0.05\n",
    "    strength = strength - deduction\n",
    "    cycle = cycle + 1\n",
    "    print(f\"Cycle {cycle}- Current strength is {strength:.2f}\")\n",
    "\n",
    "print(f\"Material failed after {cycle} cycles.\")"
   ]
  },
  {
   "cell_type": "code",
   "execution_count": 93,
   "id": "e73eeef7",
   "metadata": {},
   "outputs": [],
   "source": [
    "initial_strength = 1001\n",
    "thresh_hold = 678\n",
    "strength = initial_strength\n",
    "cycle = 10\n",
    "\n",
    "# nvm, can't do for loop for cycle because iteration of cycle is technically unknown unless I do the math\n",
    "# at which point I've solved the equation without needing code"
   ]
  },
  {
   "cell_type": "markdown",
   "id": "a7def41f",
   "metadata": {},
   "source": [
    "## 📱 Battery Drain Simulator\n",
    "\n",
    "Simulate a phone battery draining 5% every hour. Use a loop to show battery level over time until it reaches 0%.\n",
    "Print a warning when battery drops below 20% and a final message if the battery is drained. \n",
    "\n",
    "Hint: You may use a conditional statement nested in a while loop."
   ]
  },
  {
   "cell_type": "code",
   "execution_count": null,
   "id": "7f61b43c",
   "metadata": {},
   "outputs": [],
   "source": [
    "battery = 100\n",
    "hour = 0\n",
    "drain = 5\n",
    "\n",
    "# Your code here\n",
    "while battery > 0:\n",
    "    hour = hour + 1\n",
    "    battery = battery - drain\n",
    "    print(f\"Hour {hour}- Current battery level is {battery}.\")\n",
    "    if battery == 20:\n",
    "        print(\"Warning: Battery low!\")\n",
    "print(\"Battery drained.\")"
   ]
  }
 ],
 "metadata": {
  "kernelspec": {
   "display_name": "base",
   "language": "python",
   "name": "python3"
  },
  "language_info": {
   "codemirror_mode": {
    "name": "ipython",
    "version": 3
   },
   "file_extension": ".py",
   "mimetype": "text/x-python",
   "name": "python",
   "nbconvert_exporter": "python",
   "pygments_lexer": "ipython3",
   "version": "3.13.5"
  }
 },
 "nbformat": 4,
 "nbformat_minor": 5
}
