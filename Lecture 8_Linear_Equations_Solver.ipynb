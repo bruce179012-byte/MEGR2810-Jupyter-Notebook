{
 "cells": [
  {
   "cell_type": "markdown",
   "id": "590dcbba",
   "metadata": {},
   "source": [
    "# A. Basics of Linear Algebra to Solve Systems of Equations\n",
    "\n",
    "**Goals**\n",
    "- Understand how to represent a linear system in matrix form $A\\mathbf{x}=\\mathbf{b}$.\n",
    "- Diagnose when a system has a unique solution, infinitely many solutions, or no solution.\n",
    "- Use NumPy to compute ranks, determinants, and solve or analyze systems.\n",
    "- See geometric intuition in 2D (lines) and learn core algorithms (Gaussian elimination)."
   ]
  },
  {
   "cell_type": "code",
   "execution_count": 1,
   "id": "844c2aca",
   "metadata": {},
   "outputs": [],
   "source": [
    "# Add this to your cells to import commonly used libraries\n",
    "import numpy as np\n",
    "from numpy.linalg import matrix_rank, det, solve, lstsq, inv\n",
    "import matplotlib.pyplot as plt\n",
    "np.set_printoptions(suppress=True, precision=4)"
   ]
  },
  {
   "cell_type": "markdown",
   "id": "9ecf3195",
   "metadata": {},
   "source": [
    "### 1. Linear systems and matrix form\n",
    "A linear system with unknown vector $\\mathbf{x} \\in \\mathbb{R}^n$ can be written as $A\\mathbf{x} = \\mathbf{b},$ where $A \\in \\mathbb{R}^{m\\times n}$ is the coefficient matrix and $\\mathbf{b} \\in \\mathbb{R}^m$.\n",
    "\n",
    "**Augmented matrix**: $[A\\mid \\mathbf{b}]$ is useful for row-reduction (Gaussian elimination)."
   ]
  },
  {
   "cell_type": "markdown",
   "id": "efed71d1",
   "metadata": {},
   "source": [
    "In this example below, we have two equations: \n",
    "x + y + z = 3 & 2x -y -3z = 0"
   ]
  },
  {
   "cell_type": "code",
   "execution_count": 2,
   "id": "8517c844",
   "metadata": {},
   "outputs": [
    {
     "name": "stdout",
     "output_type": "stream",
     "text": [
      "A =\n",
      " [[ 1.  1.  1.]\n",
      " [ 2. -1. -3.]]\n",
      "b =\n",
      " [3. 0.]\n",
      "Augmented [A|b] =\n",
      " [[ 1.  1.  1.  3.]\n",
      " [ 2. -1. -3.  0.]]\n"
     ]
    }
   ],
   "source": [
    "# Add comments yourself!!!\n",
    "# A small example system\n",
    "import numpy as np\n",
    "A = np.array([[1., 1., 1.], [2., -1., -3]])\n",
    "b = np.array([3., 0.])#[:, None]\n",
    "print('A =\\n', A)\n",
    "print('b =\\n', b)\n",
    "aug = np.c_[A, b]  # Syntax to create augmented matrix [A|b]\n",
    "print('Augmented [A|b] =\\n', aug)"
   ]
  },
  {
   "cell_type": "markdown",
   "id": "2ffa7d9e",
   "metadata": {},
   "source": [
    "### 2. Types of solutions and rank conditions\n",
    "Let $r = \\operatorname{rank}(A)$ and $r_a = \\operatorname{rank}([A\\mid \\mathbf{b}])$.\n",
    "- **Unique solution**: $r = r_a = n$.\n",
    "- **Infinitely many solutions**: $r = r_a < n$.\n",
    "- **No solution** (inconsistent): $r \\neq r_a$.\n",
    "\n",
    "For a square system ($m=n$): $\\det(A) \\neq 0$ $\\Rightarrow$ unique solution; if $\\det(A)=0$, then either infinitely many or none (check consistency)."
   ]
  },
  {
   "cell_type": "markdown",
   "id": "0abd2180",
   "metadata": {},
   "source": [
    "#### 2.1 Unique solution example\n",
    "We have two equations in the example below: x + y = 3 & 2x - y = 0. That's why we have a unique solution."
   ]
  },
  {
   "cell_type": "code",
   "execution_count": 3,
   "id": "6aa49b12",
   "metadata": {},
   "outputs": [
    {
     "name": "stdout",
     "output_type": "stream",
     "text": [
      "rank(A)= 2  rank([A|b])= 2\n",
      "det(A)= -2.9999999999999996\n"
     ]
    }
   ],
   "source": [
    "A1 = np.array([[1., 1.], [2., -1.]])\n",
    "b1 = np.array([3., 0.])\n",
    "rA1 = matrix_rank(A1)\n",
    "rAug1 = matrix_rank(np.c_[A1, b1])\n",
    "print('rank(A)=', rA1, ' rank([A|b])=', rAug1)\n",
    "print('det(A)=', det(A1))"
   ]
  },
  {
   "cell_type": "markdown",
   "id": "53c9eba0",
   "metadata": {},
   "source": [
    "Exercise- \n",
    "Plot these two functions in the same plot"
   ]
  },
  {
   "cell_type": "code",
   "execution_count": 33,
   "id": "a3914614",
   "metadata": {},
   "outputs": [
    {
     "data": {
      "image/png": "[encoded data removed]",
      "text/plain": [
       "<Figure size 640x480 with 1 Axes>"
      ]
     },
     "metadata": {},
     "output_type": "display_data"
    }
   ],
   "source": [
    "# Your code here\n",
    "# x+y=3, 2x-y=0\n",
    "x = np.linspace(-5,10,10)\n",
    "y1 = 3 - x\n",
    "y2 = 2 * x\n",
    "\n",
    "plt.plot(x,y1)\n",
    "plt.plot(x,y2)\n",
    "plt.xlim(-5,10)\n",
    "plt.ylim(-5,20)\n",
    "plt.axhline(0, color='black', linewidth=1); plt.axvline(0, color='black', linewidth=1)\n",
    "plt.grid()\n",
    "plt.show()"
   ]
  },
  {
   "cell_type": "markdown",
   "id": "3052c9bd",
   "metadata": {},
   "source": [
    "#### 2.2 Infinitely many solutions example\n",
    "In this example, the second equation is a multiple of the first."
   ]
  },
  {
   "cell_type": "code",
   "execution_count": null,
   "id": "ca3dcd5f",
   "metadata": {},
   "outputs": [],
   "source": [
    "A2 = np.array([[1., 1.], [2., 2.]])\n",
    "b2 = np.array([2., 4.])\n",
    "rA2 = matrix_rank(A2)\n",
    "rAug2 = matrix_rank(np.c_[A2, b2])\n",
    "print('rank(A)=', rA2, ' rank([A|b])=', rAug2)\n",
    "print('det(A)=', det(A2))"
   ]
  },
  {
   "cell_type": "markdown",
   "id": "404ca168",
   "metadata": {},
   "source": [
    "Exercise- \n",
    "\n",
    "Plot there two functions together in one plot: x + y = 2 & 2x + 2y = 4"
   ]
  },
  {
   "cell_type": "code",
   "execution_count": null,
   "id": "ec94ab8a",
   "metadata": {},
   "outputs": [],
   "source": [
    "# Your code here"
   ]
  },
  {
   "cell_type": "markdown",
   "id": "7137c777",
   "metadata": {},
   "source": [
    "#### 2.3 No solution example\n",
    "Parallel lines (inconsistent)."
   ]
  },
  {
   "cell_type": "code",
   "execution_count": null,
   "id": "13fa1528",
   "metadata": {},
   "outputs": [],
   "source": [
    "A3 = np.array([[1., 1.], [2., 2.]])\n",
    "b3 = np.array([2., 5.])\n",
    "rA3 = matrix_rank(A3)\n",
    "rAug3 = matrix_rank(np.c_[A3, b3])\n",
    "print('rank(A)=', rA3, ' rank([A|b])=', rAug3, ' => inconsistent')\n",
    "print('det(A)=', det(A3))\n"
   ]
  },
  {
   "cell_type": "markdown",
   "id": "6baab1da",
   "metadata": {},
   "source": [
    "Exercise-\n",
    "\n",
    "Plot these two functions toghether in one plot: x + y = 2 & 2x + 2y = 5"
   ]
  },
  {
   "cell_type": "code",
   "execution_count": null,
   "id": "fa2a6060",
   "metadata": {},
   "outputs": [],
   "source": [
    "# Your code here"
   ]
  },
  {
   "cell_type": "markdown",
   "id": "27884b72",
   "metadata": {},
   "source": [
    "# B. Solving Systems of Linear Equations with Python\n",
    "We will explore various methods for solving systems of linear equations using Python. We will cover\n",
    "\n",
    "1. Solving systems using `numpy.linalg.solve` and matrix inversion\n",
    "2. Gauss Elimination\n",
    "3. Iterative methods like Gauss-Seidel\n",
    "4. Least squares method"
   ]
  },
  {
   "cell_type": "markdown",
   "id": "b9f1b9f9",
   "metadata": {},
   "source": [
    "## 1. Types of Solutions to Linear Systems\n",
    "- Unique solution\n",
    "- Infinite solutions\n",
    "- No solution\n",
    "- Geometric interpretation\n",
    "- Role of rank and determinant"
   ]
  },
  {
   "cell_type": "markdown",
   "id": "d5a3e065",
   "metadata": {},
   "source": [
    "### Geometric interpretation in 2D\n",
    "- Unique solution: two lines intersect at one point.\n",
    "- Infinite solutions: coincident lines.\n",
    "- No solution: parallel, distinct lines."
   ]
  },
  {
   "cell_type": "markdown",
   "id": "03d6f145",
   "metadata": {},
   "source": [
    "## 2. Direct Methods\n",
    "### a. Using `np.linalg.solve`\n",
    "When 1.)The coefficient matrix A is square (same number of equations as unknowns). 2.) The matrix A is full rank (i.e., its determinant is non-zero).\n",
    "\n",
    "Don't use when 1.) The matrix is not square. 2.)The matrix is singular (determinant is zero). 3.)The system has no solution or infinitely many solutions."
   ]
  },
  {
   "cell_type": "code",
   "execution_count": null,
   "id": "65c95873",
   "metadata": {},
   "outputs": [],
   "source": [
    "import numpy as np\n",
    "A = np.array([[2, 1], [1, 3]])\n",
    "b = np.array([8, 13])\n",
    "print(\"A=\", A)\n",
    "print(\"b=\", b)\n",
    "print(\"Augmented Matrix [A|b] =\\n\", np.c_[A, b])\n",
    "print('rank(A)=', matrix_rank(A), ' rank([A|b])=', matrix_rank(np.c_[A, b]))\n",
    "print('det(A)=', det(A))\n",
    "x = np.linalg.solve(A, b)\n",
    "print(\"Solution:\\n\", x)"
   ]
  },
  {
   "cell_type": "markdown",
   "id": "dfeabac0",
   "metadata": {},
   "source": [
    "### b. Matrix Inversion\n",
    "Determinant and invertibility (square systems)\n",
    "If $\\det(A) \\neq 0$, then $A$ is invertible and the unique solution is $\\mathbf{x}=A^{-1}\\mathbf{b}$. If $\\det(A)=0$, the system is either inconsistent or has infinitely many solutions."
   ]
  },
  {
   "cell_type": "code",
   "execution_count": null,
   "id": "ddba0a7b",
   "metadata": {},
   "outputs": [],
   "source": [
    "A = np.array([[2, 1], [1, 3]])\n",
    "b = np.array([8, 13])\n",
    "print('det(A)=', det(A))\n",
    "\n",
    "# Solve using inversion (A is square and invertible here) and show result\n",
    "x = np.linalg.inv(A) @ b\n",
    "print(\"Solution via inversion:\", x)"
   ]
  },
  {
   "cell_type": "markdown",
   "id": "a408e0c5",
   "metadata": {},
   "source": [
    "## 3. Gaussian Elimination\n",
    "Manual row operations to echelon form and back-substitution.\n",
    "Below is a simple implementation with partial pivoting to reach (upper) row-echelon form and solve when a unique solution exists."
   ]
  },
  {
   "cell_type": "markdown",
   "id": "45a44497",
   "metadata": {},
   "source": [
    "### Example-\n",
    "Let's solve this system of equation:\n",
    "\n",
    "2x + y - z = 8 \n",
    "\n",
    "-3x - y + 2z = -11\n",
    "\n",
    "-2x + y + 2z = -3\n"
   ]
  },
  {
   "cell_type": "code",
   "execution_count": null,
   "id": "e2c9a7dc",
   "metadata": {},
   "outputs": [],
   "source": [
    "# Your code here for Gaussian elimination step by step\n",
    "# Print out the augmented matrix at each step\n",
    "\n",
    "import numpy as np\n",
    "A = np.array([[2., 1., -1.], \n",
    "              [3., 3., 9.], \n",
    "              [3., 4., 2.]])\n",
    "b = np.array([8., 0., -5.])\n",
    "\n",
    "# Step 1: Initial Augmented Matrix\n",
    "\n",
    "# Step 2: Make pivot A[0][0] = 1\n",
    "\n",
    "# Step 3: Eliminate A[1][0] using row 0\n",
    "\n",
    "# Step 4: Eliminate A[2][0] using row 0\n",
    " \n",
    "# Step 5: Make pivot A[1][1] = 1\n",
    "\n",
    "# Step 6: Eliminate A[2][1] using row 1\n",
    "\n",
    "# Step 7: Make pivot A[2][2] = 1\n",
    "\n",
    "# Step 8: Back substitution to get final solution"
   ]
  },
  {
   "cell_type": "markdown",
   "id": "13969c17",
   "metadata": {},
   "source": [
    "Exercise-\n",
    "\n",
    "Use loops to do the foward elimination (i.e., make pivot and eliminate) and the back substitution for Gaussian Elimination. Draw a flow chart first. "
   ]
  },
  {
   "cell_type": "code",
   "execution_count": null,
   "id": "ca0a4cd0",
   "metadata": {},
   "outputs": [],
   "source": [
    "# Your code here"
   ]
  },
  {
   "cell_type": "markdown",
   "id": "8f799611",
   "metadata": {},
   "source": [
    "## 4. Iterative Method- Gauss-Seidel \n",
    "\n",
    " This method solves a system of linear equations iteratively and prints the updated solution vector at each iteration until convergence."
   ]
  },
  {
   "cell_type": "markdown",
   "id": "c743b9c2",
   "metadata": {},
   "source": [
    "Example-\n",
    "\n",
    "Let's solve this system of equation:\n",
    "\n",
    "4x_0 - x_1         = 15 \n",
    "\n",
    "-x_0 - 4x_1 - x_2  = 10\n",
    "     \n",
    "     - x_1  + 3x_2 = 10\n"
   ]
  },
  {
   "cell_type": "code",
   "execution_count": null,
   "id": "b5bb5730",
   "metadata": {},
   "outputs": [],
   "source": [
    "import numpy as np\n",
    "\n",
    "# Define the system of equations\n",
    "A = np.array([[4.0, -1.0, 0.0],\n",
    "              [-1.0, 4.0, -1.0],\n",
    "              [0.0, -1.0, 3.0]])\n",
    "b = np.array([15.0, 10.0, 10.0])\n",
    "\n",
    "# Initial guess\n",
    "x = np.zeros_like(b)\n",
    "\n",
    "# Tolerance and maximum iterations\n",
    "tol = 1e-6\n",
    "max_iterations = 25\n",
    "\n",
    "n = len(b)\n",
    "print (\"length of b array=\", n)\n",
    "\n",
    "print(\"Initial guess:\", x)\n",
    "\n",
    "for k in range(max_iterations):\n",
    "    x_new = np.copy(x)\n",
    "    print(f\"Iteration {k+1}:\")\n",
    "    for i in range(n):\n",
    "        s1 = sum(A[i][j] * x_new[j] for j in range(i))\n",
    "        s2 = sum(A[i][j] * x[j] for j in range(i + 1, n))\n",
    "        x_new[i] = (b[i] - s1 - s2) / A[i][i]\n",
    "        print(f\"x[{i}] = {x_new[i]}\")\n",
    "\n",
    "    # Check for convergence\n",
    "    if np.allclose(x, x_new, atol=tol):\n",
    "        print(\"Converged!\")\n",
    "        break\n",
    "    x = x_new\n",
    "\n",
    "print(\"Final solution:\")\n",
    "print(x)\n"
   ]
  },
  {
   "cell_type": "markdown",
   "id": "83080fd0",
   "metadata": {},
   "source": [
    "Exercise- \n",
    "Draw the flowchart of the code above."
   ]
  },
  {
   "cell_type": "markdown",
   "id": "e53a2bdc",
   "metadata": {},
   "source": [
    "## 5 Least Squares Method \n",
    "(Optional for now. We will discuss more later.)\n",
    "\n",
    "\n",
    "Using `np.linalg.lstsq` for least-squares solutions.\n",
    "When 1.) The matrix is not square (more equations than unknowns). 2.)The matrix is singular (determinant is zero). 3.)The system has no solution or infinitely many solutions.\n",
    "\n",
    "When a system of linear equations is **overdetermined** (more equations than unknowns), an exact solution may not exist. In such cases, we also use the **least squares method** to find an approximate solution that minimizes the residual error.\n",
    "\n",
    "Notes\n",
    "- `np.linalg.lstsq` returns the solution vector `x`, residuals, rank of matrix `A`, and singular values.\n",
    "- The residuals indicate how close the solution comes to satisfying all equations.\n",
    "- Least squares is widely used in **data fitting**, **regression**, and **signal processing**."
   ]
  },
  {
   "cell_type": "code",
   "execution_count": null,
   "id": "42f48067",
   "metadata": {},
   "outputs": [],
   "source": [
    "import numpy as np\n",
    "A = np.array([[1., 1.], [1., 2.], [1, 3]])\n",
    "b = np.array([1., 2., 2.])[:, None]\n",
    "print('A =\\n', A)\n",
    "print('b =\\n', b)\n",
    "#print('det(A)=', det(A))\n",
    "x, residuals, rank, s = lstsq(A, b, rcond=None)\n",
    "print(\"Rank(A) =\", rank)\n",
    "print(\"Singular values of A =\", s)\n",
    "print('Least-squares solution x =', x)\n",
    "print('Residual ||Ax-b|| =', residuals)"
   ]
  },
  {
   "cell_type": "code",
   "execution_count": null,
   "id": "f3b6956c",
   "metadata": {},
   "outputs": [],
   "source": [
    "import numpy as np\n",
    "import matplotlib.pyplot as plt\n",
    "\n",
    "# Define x range\n",
    "x = np.linspace(-4, 4, 50)\n",
    "\n",
    "# Define the equations\n",
    "y1 = 1 - x       # x + y = 1\n",
    "y2 = (2 - x) / 2 # x + 2y = 2\n",
    "y3 = (2 - x) / 3 # x + 3y = 2\n",
    "\n",
    "# Plotting\n",
    "plt.figure(figsize=(8, 6))\n",
    "plt.plot(x, y1, label='x + y = 1')\n",
    "plt.plot(x, y2, label='x + 2y = 2')\n",
    "plt.plot(x, y3, label='x + 3y = 2')\n",
    "\n",
    "# Add labels and legend\n",
    "plt.xlabel('x')\n",
    "plt.ylabel('y')\n",
    "plt.title('Plot of Three Linear Equations')\n",
    "plt.grid(True)\n",
    "plt.legend()\n",
    "plt.axhline(0, color='black', linewidth=0.5)\n",
    "plt.axvline(0, color='black', linewidth=0.5)\n",
    "\n",
    "# Show plot\n",
    "plt.show()"
   ]
  },
  {
   "cell_type": "markdown",
   "id": "2cce460e",
   "metadata": {},
   "source": [
    "## 6. Summary Table\n",
    "| Method             | Type         | Pros                     | Cons                      |\n",
    "|--------------------|--------------|--------------------------|---------------------------|\n",
    "| `np.linalg.solve`  | Direct       | Fast, accurate           | Only for square systems   |\n",
    "| Inversion          | Direct       | Conceptually simple      | Numerically unstable      |\n",
    "| Gauss Elimination  | Manual       | Educational               | Tedious for large systems |\n",
    "| Gauss-Seidel       | Iterative    | Good for sparse systems  | Needs convergence check   |\n",
    "| Least Squares      | Overdetermined | Handles extra equations | Approximate solution      |"
   ]
  },
  {
   "cell_type": "markdown",
   "id": "1f7c1bb5",
   "metadata": {},
   "source": [
    "\n",
    "## Exercise Problem 1: \n",
    "Solve this system of equations using least squares method and plot the three line in one plot.\n",
    "1. \\(2x + y = 8\\)\n",
    "2. \\(x + 3y = 13\\)\n",
    "3. \\(x + y = 7\\) *(Overdetermined)*\n",
    "\n"
   ]
  },
  {
   "cell_type": "code",
   "execution_count": null,
   "id": "cc629d86",
   "metadata": {},
   "outputs": [],
   "source": [
    "# Your code here"
   ]
  },
  {
   "cell_type": "markdown",
   "id": "6a08461a",
   "metadata": {},
   "source": [
    "## Exercise Problem 2\n",
    "Create a $3\\times 3$ system with a unique solution. Verify using rank and determinant, then solve with `solve`."
   ]
  },
  {
   "cell_type": "code",
   "execution_count": null,
   "id": "62041e99",
   "metadata": {},
   "outputs": [],
   "source": [
    "# Your code here\n"
   ]
  },
  {
   "cell_type": "markdown",
   "id": "570cc887",
   "metadata": {},
   "source": [
    "## Exercise Problem 3\n",
    "Create an inconsistent system. Compute the least-squares solution and residual norm."
   ]
  },
  {
   "cell_type": "code",
   "execution_count": null,
   "id": "5a3412db",
   "metadata": {},
   "outputs": [],
   "source": [
    "# Your code here"
   ]
  },
  {
   "cell_type": "markdown",
   "id": "803b2429",
   "metadata": {},
   "source": [
    "## Exercise Problem 4\n",
    "Use `gaussian_elimination_solve` to solve a new square system and verify the result with `solve`."
   ]
  },
  {
   "cell_type": "code",
   "execution_count": null,
   "id": "0b968a22",
   "metadata": {},
   "outputs": [],
   "source": [
    "# Your code here"
   ]
  }
 ],
 "metadata": {
  "kernelspec": {
   "display_name": "base",
   "language": "python",
   "name": "python3"
  },
  "language_info": {
   "codemirror_mode": {
    "name": "ipython",
    "version": 3
   },
   "file_extension": ".py",
   "mimetype": "text/x-python",
   "name": "python",
   "nbconvert_exporter": "python",
   "pygments_lexer": "ipython3",
   "version": "3.13.5"
  }
 },
 "nbformat": 4,
 "nbformat_minor": 5
}
