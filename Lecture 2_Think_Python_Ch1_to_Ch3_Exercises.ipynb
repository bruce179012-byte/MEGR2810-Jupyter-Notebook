{
 "cells": [
  {
   "cell_type": "markdown",
   "id": "2fa8b039",
   "metadata": {},
   "source": [
    "## Arithmetic Operators"
   ]
  },
  {
   "cell_type": "code",
   "execution_count": 7,
   "id": "be267969",
   "metadata": {},
   "outputs": [
    {
     "name": "stdout",
     "output_type": "stream",
     "text": [
      "Addition: 13\n",
      "Subtraction: 7\n",
      "Multiplication: 30\n",
      "Division: 3.3333333333333335\n",
      "Floor Division: 3\n",
      "Modulus: 1\n",
      "Exponentiation: 1000\n"
     ]
    }
   ],
   "source": [
    "# Arithmetic Operators\n",
    "# Python supports basic arithmetic operations:\n",
    "# Addition (+), Subtraction (-), Multiplication (*), Division (/), Modulus (%), Exponentiation (**)\n",
    "\n",
    "a = 10\n",
    "b = 3\n",
    "\n",
    "print(\"Addition:\", a + b)\n",
    "print(\"Subtraction:\", a - b ) # Your code from here and on \n",
    "print(\"Multiplication:\", a * b)\n",
    "print(\"Division:\", a / b)\n",
    "print(\"Floor Division:\", a//b )\n",
    "print(\"Modulus:\", a % b)\n",
    "print(\"Exponentiation:\", a ** b)\n"
   ]
  },
  {
   "cell_type": "markdown",
   "id": "b1f46671",
   "metadata": {},
   "source": [
    "## Expressions"
   ]
  },
  {
   "cell_type": "code",
   "execution_count": 24,
   "id": "ebdd5307",
   "metadata": {},
   "outputs": [
    {
     "name": "stdout",
     "output_type": "stream",
     "text": [
      "Expression result: a = 25  b = 13  c = 67  d = 1.7320508075688772\n"
     ]
    }
   ],
   "source": [
    "# Expressions\n",
    "# An expression is a combination of values, variables, and operators that Python can evaluate.\n",
    "\n",
    "x = 5\n",
    "y = 2\n",
    "z = 3 ** (1/2)\n",
    "a = x * (y + 3) # Your code to change a and b to different expressions\n",
    "b = x * y + 3\n",
    "c = (x ** y) * y + (x * y) + x + y\n",
    "d = z\n",
    "\n",
    "print(\"Expression result: a =\", a, \" b =\", b, \" c =\", c, \" d =\", d)"
   ]
  },
  {
   "cell_type": "markdown",
   "id": "da622ebd",
   "metadata": {},
   "source": [
    "## Arithmetic Functions"
   ]
  },
  {
   "cell_type": "code",
   "execution_count": 34,
   "id": "8f87d071",
   "metadata": {},
   "outputs": [
    {
     "name": "stdout",
     "output_type": "stream",
     "text": [
      "Absolute value: 7.89627\n",
      "Rounded value: -7.896\n",
      "Absolute value: 42.9201349013529\n",
      "Rounded value: -42.920135\n"
     ]
    }
   ],
   "source": [
    "# Arithmetic Functions\n",
    "# Python provides built-in functions like round() and abs()\n",
    "\n",
    "value = -7.89627\n",
    "value2 = -42.920134901352902193120\n",
    "\n",
    "print(\"Absolute value:\", abs(value))\n",
    "print(\"Rounded value:\", round(value, 3))\n",
    "\n",
    "# Your code here\n",
    "print(\"Absolute value:\", abs(value2))\n",
    "print(\"Rounded value:\", round(value2, 6))"
   ]
  },
  {
   "cell_type": "markdown",
   "id": "ee503e8f",
   "metadata": {},
   "source": [
    "## Strings"
   ]
  },
  {
   "cell_type": "code",
   "execution_count": 41,
   "id": "bdcb4d75",
   "metadata": {},
   "outputs": [
    {
     "name": "stdout",
     "output_type": "stream",
     "text": [
      "Hello, World!\n",
      "Hello, World!\n",
      "Length of string 1: 13\n",
      "Uppercase: HELLO, WORLD!\n",
      "Why hello there my fellow MEGR2810's.\n",
      "Character length of Greeting: 37\n",
      "why hello there MY FELLOW MEGR2810'S.\n"
     ]
    }
   ],
   "source": [
    "# Strings\n",
    "# Strings are sequences of characters enclosed in quotes.\n",
    "\n",
    "greeting1 = \"Hello, World!\"\n",
    "greeting2 = 'Hello' + ', ' + \"World!\"\n",
    "print(greeting1)\n",
    "print(greeting2)\n",
    "print(\"Length of string 1:\", len(greeting1))\n",
    "print(\"Uppercase:\", greeting2.upper())\n",
    "\n",
    "# Your code here\n",
    "Greeting1 = \"Why hello there\"\n",
    "Greeting2 = \"my fellow MEGR2810's.\"\n",
    "print(Greeting1 + \" \" + Greeting2)\n",
    "print(\"Character length of Greeting:\", len(Greeting1 + \" \" + Greeting2))\n",
    "print(Greeting1.lower(), Greeting2.upper())\n"
   ]
  },
  {
   "cell_type": "markdown",
   "id": "aec13de8",
   "metadata": {},
   "source": [
    "## Values and Variables"
   ]
  },
  {
   "cell_type": "code",
   "execution_count": 44,
   "id": "74303a9a",
   "metadata": {},
   "outputs": [
    {
     "name": "stdout",
     "output_type": "stream",
     "text": [
      "Type of num: <class 'int'>\n",
      "Type of text: <class 'str'>\n",
      "Convert string to int: 123\n",
      "Convert string to float: 123.456\n",
      "Convert float to int: 123\n",
      "<class 'int'>\n",
      "123\n"
     ]
    }
   ],
   "source": [
    "# Values and Variables\n",
    "# Variables store values. Use type() to check the type of a value.\n",
    "\n",
    "num = 42\n",
    "text = \"Python\"\n",
    "int_num = int(\"123\")\n",
    "\n",
    "print(\"Type of num:\", type(num))\n",
    "print(\"Type of text:\", type(text))\n",
    "print(\"Convert string to int:\", int(\"123\"))\n",
    "print(\"Convert string to float:\", float(\"123.456\"))\n",
    "print(\"Convert float to int:\", int(123.456))\n",
    "\n",
    "# Your code here\n",
    "x = 42\n",
    "name = \"Bruce\"\n",
    "print(type(x))\n",
    "print(int(\"123\"))\n"
   ]
  },
  {
   "cell_type": "markdown",
   "id": "412914d1",
   "metadata": {},
   "source": [
    "## Variable Assignments and Statements"
   ]
  },
  {
   "cell_type": "code",
   "execution_count": 45,
   "id": "ebb5b28a",
   "metadata": {},
   "outputs": [
    {
     "name": "stdout",
     "output_type": "stream",
     "text": [
      "Value of y: 15\n"
     ]
    }
   ],
   "source": [
    "# Variable Assignments and Statements\n",
    "# Use = to assign values to variables.\n",
    "\n",
    "x = 10\n",
    "y = x + 5\n",
    "print(\"Value of y:\", y)\n"
   ]
  },
  {
   "cell_type": "markdown",
   "id": "3db46405",
   "metadata": {},
   "source": [
    "## Variable Naming Rules and Keywords"
   ]
  },
  {
   "cell_type": "code",
   "execution_count": 50,
   "id": "b07ff4b0",
   "metadata": {},
   "outputs": [
    {
     "name": "stdout",
     "output_type": "stream",
     "text": [
      "How many pairs of shoes? 100\n",
      "Python keywords: ['False', 'None', 'True', 'and', 'as', 'assert', 'async', 'await', 'break', 'class', 'continue', 'def', 'del', 'elif', 'else', 'except', 'finally', 'for', 'from', 'global', 'if', 'import', 'in', 'is', 'lambda', 'nonlocal', 'not', 'or', 'pass', 'raise', 'return', 'try', 'while', 'with', 'yield']\n"
     ]
    }
   ],
   "source": [
    "# Variable Naming Rules and Keywords\n",
    "# Variable names must start with a letter or underscore and cannot be Python keywords.\n",
    "\n",
    "# Valid variable names\n",
    "my_var = 1\n",
    "_var2 = 2\n",
    "hundredpairsofshoes = 100\n",
    "print(\"How many pairs of shoes? \" + str(hundredpairsofshoes))\n",
    "\n",
    "# Invalid: 2var = 3 (starts with a number)\n",
    "# Invalid: if = 4 (if is a keyword)\n",
    "\n",
    "import keyword\n",
    "print(\"Python keywords:\", keyword.kwlist) # Print out a list of Python keywords\n",
    "\n"
   ]
  },
  {
   "cell_type": "markdown",
   "id": "04067491",
   "metadata": {},
   "source": [
    "## Math Module"
   ]
  },
  {
   "cell_type": "code",
   "execution_count": 58,
   "id": "db9aac63",
   "metadata": {},
   "outputs": [
    {
     "name": "stdout",
     "output_type": "stream",
     "text": [
      "Square root of 16 divided by 4: 1.0\n",
      "Value of pi: 3.141592653589793\n",
      "Value of pi to an engineer: 3\n",
      "Cosine of 0: 1.0\n"
     ]
    }
   ],
   "source": [
    "# Math Module\n",
    "# Import the math module to access mathematical functions\n",
    "\n",
    "import math\n",
    "\n",
    "print(\"Square root of 16 divided by 4:\", math.sqrt(16) / 4)\n",
    "print(\"Value of pi:\", math.pi)\n",
    "print(\"Value of pi to an engineer:\", round(math.pi))\n",
    "print(\"Cosine of 0:\", math.cos(0))\n",
    "\n",
    "# Your code here to use math functions. Do what you like!\n"
   ]
  },
  {
   "cell_type": "markdown",
   "id": "4a980680",
   "metadata": {},
   "source": [
    "## TypeErrors"
   ]
  },
  {
   "cell_type": "code",
   "execution_count": 62,
   "id": "951b1c0b",
   "metadata": {},
   "outputs": [
    {
     "name": "stdout",
     "output_type": "stream",
     "text": [
      "TypeError: can only concatenate str (not \"int\") to str\n",
      "Fixed result: hell0\n"
     ]
    }
   ],
   "source": [
    "# TypeErrors\n",
    "# TypeErrors occur when operations are applied to incompatible types\n",
    "\n",
    "# Example:\n",
    "try:\n",
    "    result = \"hell\" + 0\n",
    "except TypeError as e:\n",
    "    print(\"TypeError:\", e)\n",
    "\n",
    "# Fix the error\n",
    "result = \"hell\" + str(0)\n",
    "print(\"Fixed result:\", result)"
   ]
  },
  {
   "cell_type": "markdown",
   "id": "b4b3f96c",
   "metadata": {},
   "source": [
    "## Comments"
   ]
  },
  {
   "cell_type": "code",
   "execution_count": null,
   "id": "74931309",
   "metadata": {},
   "outputs": [
    {
     "name": "stdout",
     "output_type": "stream",
     "text": [
      "5\n"
     ]
    }
   ],
   "source": [
    "# Comments\n",
    "# Use comments to explain code. Comments start with #\n",
    "\n",
    "# This is a comment\n",
    "x = 5  # Assign 5 to x\n",
    "print(x) # Add a comment here\n",
    "# you should know how the above line works without a comment, anyhow, \"the quick brown fox jumps over the lazy dog.\" \"Heq uickb rownf oxj umpso vert hel azyd dog. t\""
   ]
  },
  {
   "cell_type": "markdown",
   "id": "c33bce8d",
   "metadata": {},
   "source": [
    "# Exercises\n",
    "# Try these:\n",
    "# 1. Create a variable and assign it a string.\n",
    "# 2. Use math.sqrt() to find the square root of a number.\n",
    "# 3. Write a comment explaining what your code does.\n"
   ]
  },
  {
   "cell_type": "code",
   "execution_count": 71,
   "id": "5ab5b497",
   "metadata": {},
   "outputs": [
    {
     "name": "stdout",
     "output_type": "stream",
     "text": [
      "Guess what... chicken butt\n"
     ]
    }
   ],
   "source": [
    "# Code here\n",
    "guesswhat = \"chicken butt\"\n",
    "print(\"Guess what... \" + guesswhat)\n",
    "# hah"
   ]
  },
  {
   "cell_type": "code",
   "execution_count": 75,
   "id": "41c09630",
   "metadata": {},
   "outputs": [
    {
     "name": "stdout",
     "output_type": "stream",
     "text": [
      "A quarter of a stack: 16\n"
     ]
    }
   ],
   "source": [
    "# Code here\n",
    "quarter_of_a_stack = math.sqrt(256)\n",
    "print(\"A quarter of a stack:\", int(quarter_of_a_stack))"
   ]
  },
  {
   "cell_type": "code",
   "execution_count": null,
   "id": "c8e2ed98",
   "metadata": {},
   "outputs": [],
   "source": [
    "# Code here\n",
    "# Okay, so what my first code does is it makes a very funny joke.\n",
    "# That is all.\n",
    "\n",
    "# Now my second piece of code just gives you a quarter of a stack, the maximum amount of items you can have in one cell in your inventory in Minecraft."
   ]
  },
  {
   "cell_type": "markdown",
   "id": "9f686303",
   "metadata": {},
   "source": [
    "## Functions"
   ]
  },
  {
   "cell_type": "code",
   "execution_count": 84,
   "id": "1dc8ec37",
   "metadata": {},
   "outputs": [
    {
     "name": "stdout",
     "output_type": "stream",
     "text": [
      "Hello from a function!\n",
      "Row, row, row your boat\n",
      "Gently down the stream\n",
      "Merrily, merrily, merrily, merrily\n",
      "Life is but a dream.\n"
     ]
    }
   ],
   "source": [
    "# Functions\n",
    "# Functions are reusable blocks of code defined using def\n",
    "\n",
    "def greet():\n",
    "    print(\"Hello from a function!\")\n",
    "\n",
    "greet()\n",
    "\n",
    "def Rowing():\n",
    "    print(\"Row, row, row your boat\")\n",
    "    print(\"Gently down the stream\")\n",
    "    print(\"Merrily, merrily, merrily, merrily\")\n",
    "    print(\"Life is but a dream.\")\n",
    "\n",
    "Rowing()\n",
    "# Your code here to define and call more functions"
   ]
  },
  {
   "cell_type": "markdown",
   "id": "cbf6f331",
   "metadata": {},
   "source": [
    "## Parameters and Arguments"
   ]
  },
  {
   "cell_type": "code",
   "execution_count": 103,
   "id": "75930ad5",
   "metadata": {},
   "outputs": [
    {
     "name": "stdout",
     "output_type": "stream",
     "text": [
      "Hello Alice\n",
      "* waves at 5 *\n",
      "Stroke rate is: 20 strokes per meter\n"
     ]
    }
   ],
   "source": [
    "# Parameters and Arguments\n",
    "# Functions can accept parameters\n",
    "\n",
    "def greet(name):\n",
    "    print(\"Hello\", name)\n",
    "\n",
    "greet(\"Alice\")\n",
    "\n",
    "# Your code here to define and call functions with parameters\n",
    "def wave(name):\n",
    "    print(\"* waves at \" + name + \" *\")\n",
    "wave(\"5\")\n",
    "\n",
    "def strokerate(total_strokes , total_time):\n",
    "    rate = total_strokes / total_time\n",
    "    print(\"Stroke rate is:\", int(rate), \"strokes per meter\")\n",
    "strokerate(1000, 50)"
   ]
  },
  {
   "cell_type": "markdown",
   "id": "e67d83bb",
   "metadata": {},
   "source": [
    "## Calling Functions and Local Variables"
   ]
  },
  {
   "cell_type": "code",
   "execution_count": 95,
   "id": "544b787d",
   "metadata": {},
   "outputs": [
    {
     "name": "stdout",
     "output_type": "stream",
     "text": [
      "Sum: 7\n",
      "hell0\n",
      "Sum of 10 and 20 is: 30\n"
     ]
    }
   ],
   "source": [
    "# Calling Functions and Local Variables\n",
    "# Variables inside functions are local to that function\n",
    "\n",
    "def add(a, b):\n",
    "    result = a + b\n",
    "    return result\n",
    "\n",
    "print(\"Sum:\", add(3, 4))\n",
    "\n",
    "print(result)  # This will raise an error because result is local to add()\n",
    "\n",
    "# Your code here to define and call more functions with local variables\n",
    "def addition(x, y):\n",
    "    sum_result = x + y\n",
    "    return sum_result\n",
    "\n",
    "print(\"Sum of 10 and 20 is:\", addition(10, 20))"
   ]
  },
  {
   "cell_type": "markdown",
   "id": "69c11b94",
   "metadata": {},
   "source": [
    "## Loops"
   ]
  },
  {
   "cell_type": "code",
   "execution_count": 120,
   "id": "a62fffb4",
   "metadata": {},
   "outputs": [
    {
     "name": "stdout",
     "output_type": "stream",
     "text": [
      "Iteration 0\n",
      "Iteration 1\n",
      "Iteration 2\n",
      "Iteration 3\n",
      "Iteration 4\n",
      "number of fingers: 1\n",
      "number of fingers: 2\n",
      "number of fingers: 3\n",
      "number of fingers: 4\n",
      "number of fingers: 5\n",
      "number of fingers: 6\n",
      "number of fingers: 7\n",
      "number of fingers: 8\n",
      "number of fingers: 9\n",
      "number of fingers: 10\n"
     ]
    }
   ],
   "source": [
    "# Loops\n",
    "# Use for loops to repeat actions\n",
    "\n",
    "for i in range(5):\n",
    "    print(\"Iteration\", i)\n",
    "\n",
    "# Your code here to define and use more loops\n",
    "for x in range(10):\n",
    "    print(\"number of fingers:\", x + 1)  \n",
    "    # thumbs included"
   ]
  },
  {
   "cell_type": "markdown",
   "id": "ff0a87ad",
   "metadata": {},
   "source": [
    "\n",
    "# Loop Through a List\n",
    "Loop through a list of forces and calculate stress using σ = F / A. Flag any stress that exceeds the yield limit."
   ]
  },
  {
   "cell_type": "code",
   "execution_count": 14,
   "id": "afada623",
   "metadata": {},
   "outputs": [
    {
     "name": "stdout",
     "output_type": "stream",
     "text": [
      "Force: 500 N → Stress: 200000.00 Pa → OK\n",
      "Force: 1000 N → Stress: 400000.00 Pa → OK\n",
      "Force: 1500 N → Stress: 600000.00 Pa → OK\n",
      "Force: 2000 N → Stress: 800000.00 Pa → OK\n",
      "Force: 2500 N → Stress: 1000000.00 Pa → Exceeds yield limit!\n",
      "Force: 3000 N → Stress: 1200000.00 Pa → Exceeds yield limit!\n",
      "yo it's a apple\n",
      "yo it's a banana\n",
      "yo it's a cherry\n",
      "yo it's a date\n",
      "yo it's a elderberry\n"
     ]
    }
   ],
   "source": [
    "forces = [500, 1000, 1500, 2000, 2500, 3000]  # in Newtons\n",
    "area = 0.0025  # cross-sectional area in m²\n",
    "yield_limit = 850000  # in Pascals\n",
    "\n",
    "for F in forces:\n",
    "    stress = F / area\n",
    "    status = \"OK\"\n",
    "    if stress > yield_limit:\n",
    "        status = \"Exceeds yield limit!\"\n",
    "    print(f\"Force: {F} N → Stress: {stress:.2f} Pa → {status}\")\n",
    "\n",
    "# Modify the code above to add more forces and change area and yield_limit\n",
    "items = [\"apple\", \"banana\", \"cherry\", \"date\", \"elderberry\"]\n",
    "for item in items:\n",
    "    print(\"yo it's a\", item)"
   ]
  },
  {
   "cell_type": "markdown",
   "id": "91804e1e",
   "metadata": {},
   "source": [
    "# Print Text"
   ]
  },
  {
   "cell_type": "code",
   "execution_count": 23,
   "id": "35dd4dc9",
   "metadata": {},
   "outputs": [
    {
     "name": "stdout",
     "output_type": "stream",
     "text": [
      "Hello,\n",
      "World!\n"
     ]
    }
   ],
   "source": [
    "# Print Text\n",
    "text = \"Hello, World!\"\n",
    "print(text[:6])  # This will print the first 6 characters of 'text'\n",
    "print(text[7:])  # This will print the characters from right to left except the first 7 characters\n",
    "\n",
    "# Fix the error"
   ]
  },
  {
   "cell_type": "markdown",
   "id": "be099eeb",
   "metadata": {},
   "source": [
    "# Final Exercises\n",
    "# 1. Write a function that returns the square of a number.\n",
    "# 2. Use a loop to print numbers from 1 to 10.\n",
    "# 3. Use round() and abs() in a function.\n"
   ]
  },
  {
   "cell_type": "code",
   "execution_count": null,
   "id": "43c4cd1b",
   "metadata": {},
   "outputs": [
    {
     "data": {
      "text/plain": [
       "8.0"
      ]
     },
     "execution_count": 30,
     "metadata": {},
     "output_type": "execute_result"
    }
   ],
   "source": [
    "# Code here\n",
    "import math\n",
    "def squarenumber(x):\n",
    "    square = math.sqrt(x)\n",
    "    return square\n",
    "\n",
    "squarenumber(64)"
   ]
  },
  {
   "cell_type": "code",
   "execution_count": 33,
   "id": "06be2c70",
   "metadata": {},
   "outputs": [
    {
     "name": "stdout",
     "output_type": "stream",
     "text": [
      "Number 1\n",
      "Number 2\n",
      "Number 3\n",
      "Number 4\n",
      "Number 5\n",
      "Number 6\n",
      "Number 7\n",
      "Number 8\n",
      "Number 9\n",
      "Number 10\n"
     ]
    }
   ],
   "source": [
    "# Code here\n",
    "for i in range(10):\n",
    "    print(\"Number\", i + 1)"
   ]
  },
  {
   "cell_type": "code",
   "execution_count": 49,
   "id": "2d31697c",
   "metadata": {},
   "outputs": [
    {
     "name": "stdout",
     "output_type": "stream",
     "text": [
      "Your absolute rounded number is: 42.9201\n"
     ]
    }
   ],
   "source": [
    "# Code here\n",
    "def number_character_size_too_big_make_small_also_must_be_positive(x, y):\n",
    "    result = abs(round(x, y))\n",
    "    return result\n",
    "number = 42.920134901352902193120\n",
    "digit_rounded_to = 4\n",
    "print(\"Your absolute rounded number is:\", number_character_size_too_big_make_small_also_must_be_positive(number, digit_rounded_to))"
   ]
  },
  {
   "cell_type": "code",
   "execution_count": null,
   "id": "983b45e5",
   "metadata": {},
   "outputs": [],
   "source": []
  }
 ],
 "metadata": {
  "kernelspec": {
   "display_name": "base",
   "language": "python",
   "name": "python3"
  },
  "language_info": {
   "codemirror_mode": {
    "name": "ipython",
    "version": 3
   },
   "file_extension": ".py",
   "mimetype": "text/x-python",
   "name": "python",
   "nbconvert_exporter": "python",
   "pygments_lexer": "ipython3",
   "version": "3.13.5"
  }
 },
 "nbformat": 4,
 "nbformat_minor": 5
}
