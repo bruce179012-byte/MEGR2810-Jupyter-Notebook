{
 "cells": [
  {
   "cell_type": "markdown",
   "id": "c181a226",
   "metadata": {},
   "source": [
    "# Review of Lecture 2"
   ]
  },
  {
   "cell_type": "markdown",
   "id": "311f02ee",
   "metadata": {},
   "source": [
    "### Loops and print"
   ]
  },
  {
   "cell_type": "code",
   "execution_count": 3,
   "id": "93d630e9",
   "metadata": {},
   "outputs": [
    {
     "name": "stdout",
     "output_type": "stream",
     "text": [
      "number of people I know: 1\n",
      "number of people I know: 2\n",
      "number of people I know: 3\n",
      "number of people I know: 4\n",
      "number of people I know: 5\n",
      "number of people I know: 6\n",
      "number of people I know: 7\n",
      "number of people I know: 8\n",
      "number of people I know: 9\n",
      "number of people I know: 10\n"
     ]
    }
   ],
   "source": [
    "# Use a loop to print numbers from 1 to 10.\n",
    "# Your code here \n",
    "for k in range(10):\n",
    "    print(\"number of people I know:\", k + 1)"
   ]
  },
  {
   "cell_type": "markdown",
   "id": "cf720a78",
   "metadata": {},
   "source": [
    "### Import math module and use math functions"
   ]
  },
  {
   "cell_type": "code",
   "execution_count": null,
   "id": "54155502",
   "metadata": {},
   "outputs": [
    {
     "name": "stdout",
     "output_type": "stream",
     "text": [
      "36\n",
      "12\n"
     ]
    }
   ],
   "source": [
    "# Write a function that prints the square of a number\n",
    "\n",
    "import math # You need this first to import the math module\n",
    "def print_square(x): # x is a parameter.\n",
    "    # Your code here- Need to use the math module\n",
    "    print(int(math.pow(x, 2))) # You can use math.pow to calculate the square of x.\n",
    "     \n",
    "\n",
    "print_square(6) # Pay attention to the result of your function call. Is it an integer or a float?\n",
    "print_square(3.5)"
   ]
  },
  {
   "cell_type": "markdown",
   "id": "ad0199b3",
   "metadata": {},
   "source": [
    "\n",
    "### Loop Through a List and print( ) in Python\n",
    "Loop through a list of forces and calculate stress using σ = F / A. Flag any stress that exceeds the yield limit."
   ]
  },
  {
   "cell_type": "code",
   "execution_count": 1,
   "id": "76f83368",
   "metadata": {},
   "outputs": [
    {
     "name": "stdout",
     "output_type": "stream",
     "text": [
      "Force: 500 N → Stress: 71428.57 Pa → OK\n",
      "Force: 1000 N → Stress: 142857.14 Pa → OK\n",
      "Force: 1500 N → Stress: 214285.71 Pa → OK\n",
      "Force: 2000 N → Stress: 285714.29 Pa → OK\n",
      "Force: 2500 N → Stress: 357142.86 Pa → OK\n",
      "Force: 3000 N → Stress: 428571.43 Pa → OK\n",
      "Force: 3500 N → Stress: 500000.00 Pa → OK\n",
      "Force: 4000 N → Stress: 571428.57 Pa → Exceeds yield limit!\n"
     ]
    }
   ],
   "source": [
    "forces = [500, 1000, 1500, 2000, 2500, 3000, 3500, 4000]  # in Newtons - modify as needed\n",
    "area = 0.007  # cross-sectional area in m² - modify as needed\n",
    "yield_limit = 550000  # in Pascals - modify as needed\n",
    "\n",
    "for F in forces:\n",
    "    stress = F / area\n",
    "    status = \"OK\"\n",
    "    if stress > yield_limit:\n",
    "        status = \"Exceeds yield limit!\"\n",
    "    print(f\"Force: {F} N → Stress: {stress:.2f} Pa → {status}\")"
   ]
  },
  {
   "cell_type": "markdown",
   "id": "81dafced",
   "metadata": {},
   "source": [
    "# Overview of Conditionals and Recursion- Lecture 3"
   ]
  },
  {
   "cell_type": "markdown",
   "id": "311bc235",
   "metadata": {},
   "source": [
    "## Boolean"
   ]
  },
  {
   "cell_type": "markdown",
   "id": "1fb26646",
   "metadata": {},
   "source": [
    "### Boolean Values\n",
    "Booleans represent truth values: `True` and `False`.\n"
   ]
  },
  {
   "cell_type": "code",
   "execution_count": 15,
   "id": "fc8197b1",
   "metadata": {},
   "outputs": [
    {
     "name": "stdout",
     "output_type": "stream",
     "text": [
      "<class 'bool'>\n",
      "False\n",
      "True\n",
      "False\n"
     ]
    }
   ],
   "source": [
    "x = 5\n",
    "y = 7\n",
    "x == y  # Check if x is equal to y- this returns False\n",
    "# x != y # Check if x is not equal to y- this returns True\n",
    "print(type(True))\n",
    "# uncomment the above lines to see what happens\n",
    "print(x == y)\n",
    "print(x != y)\n",
    "print(x > y)"
   ]
  },
  {
   "cell_type": "markdown",
   "id": "d174f3f0",
   "metadata": {},
   "source": [
    "## Relational Operators"
   ]
  },
  {
   "cell_type": "markdown",
   "id": "0372da7c",
   "metadata": {},
   "source": [
    "### Relational Operators\n",
    "Used to compare values: `==`, `!=`, `<`, `>`, `<=`, `>=`\n"
   ]
  },
  {
   "cell_type": "code",
   "execution_count": 17,
   "id": "40b87a16",
   "metadata": {},
   "outputs": [
    {
     "name": "stdout",
     "output_type": "stream",
     "text": [
      "False\n",
      "True\n",
      "False\n",
      "True\n"
     ]
    }
   ],
   "source": [
    "x = 10\n",
    "y = 20\n",
    "print(x == y) # False\n",
    "print(x < y) # True\n",
    "print(x >= y) # False\n",
    "print(x != y) # True\n",
    "# Adding comment on each line for what you think the output is before running the code"
   ]
  },
  {
   "cell_type": "markdown",
   "id": "f80b11d3",
   "metadata": {},
   "source": [
    "## Logical Operators"
   ]
  },
  {
   "cell_type": "markdown",
   "id": "05f9f5b0",
   "metadata": {},
   "source": [
    "### Logical Operators\n",
    "`and`, `or`, `not` combine boolean expressions.\n"
   ]
  },
  {
   "cell_type": "code",
   "execution_count": null,
   "id": "0e6878b5",
   "metadata": {},
   "outputs": [
    {
     "name": "stdout",
     "output_type": "stream",
     "text": [
      "True\n",
      "True\n",
      "False\n",
      "True\n",
      "True\n",
      "False\n"
     ]
    }
   ],
   "source": [
    "import math\n",
    "x = 5\n",
    "y = 25\n",
    "print(x > 0 and x < 10)\n",
    "print(x < 0 or x > 3)\n",
    "print(not(x == 5))\n",
    "print(math.sqrt(y) == x)\n",
    "print(math.pow(x, 2) == y)\n",
    "print(math.pow(x, 3) == y)\n",
    "# add a few more examples of logical operators on your own"
   ]
  },
  {
   "cell_type": "markdown",
   "id": "62fa97d3",
   "metadata": {},
   "source": [
    "## if Statement"
   ]
  },
  {
   "cell_type": "markdown",
   "id": "c481066c",
   "metadata": {},
   "source": [
    "### if Statement\n",
    "Executes a block of code if the condition is true.\n"
   ]
  },
  {
   "cell_type": "code",
   "execution_count": 1,
   "id": "8b50c0f5",
   "metadata": {},
   "outputs": [
    {
     "name": "stdout",
     "output_type": "stream",
     "text": [
      "x is greater than 5\n"
     ]
    }
   ],
   "source": [
    "x = 7\n",
    "if x > 5:\n",
    "    print(\"x is greater than 5\")"
   ]
  },
  {
   "cell_type": "code",
   "execution_count": 11,
   "id": "4e1c03fa",
   "metadata": {},
   "outputs": [
    {
     "name": "stdout",
     "output_type": "stream",
     "text": [
      "your number is less than 2 + 1\n"
     ]
    }
   ],
   "source": [
    "# Your code here- write a conditional statement that checks if x is less than 3,\n",
    "# and prints an appropriate message\n",
    "x = 2\n",
    "if x < 3:\n",
    "    print(\"your number is less than \" + str(x) + \" + 1\")"
   ]
  },
  {
   "cell_type": "markdown",
   "id": "44262caa",
   "metadata": {},
   "source": [
    "## else Statement"
   ]
  },
  {
   "cell_type": "markdown",
   "id": "1c7e31b6",
   "metadata": {},
   "source": [
    "### else Statement\n",
    "Provides an alternative block if the condition is false.\n"
   ]
  },
  {
   "cell_type": "code",
   "execution_count": 12,
   "id": "6ba615ad",
   "metadata": {},
   "outputs": [
    {
     "name": "stdout",
     "output_type": "stream",
     "text": [
      "x is not greater than 5\n"
     ]
    }
   ],
   "source": [
    "x = 3\n",
    "if x > 5:\n",
    "    print(\"x is greater than 5\")\n",
    "else:\n",
    "    print(\"x is not greater than 5\")"
   ]
  },
  {
   "cell_type": "code",
   "execution_count": 17,
   "id": "b18eb337",
   "metadata": {},
   "outputs": [
    {
     "name": "stdout",
     "output_type": "stream",
     "text": [
      "fake 0\n",
      "fake 1\n",
      "fake 2\n",
      "fake 3\n",
      "fake 4\n",
      "real 5\n",
      "real 6\n",
      "real 7\n",
      "real 8\n",
      "real 9\n"
     ]
    }
   ],
   "source": [
    "# Yor code here- write a conditional statement that checks if x is less than 5,\n",
    "# and prints an appropriate message\n",
    "for x in range(10):\n",
    "    if x < 5:\n",
    "        print(\"fake\", x)\n",
    "    else:\n",
    "        print(\"real\", x)"
   ]
  },
  {
   "cell_type": "markdown",
   "id": "3c39ec32",
   "metadata": {},
   "source": [
    "## elif Statement"
   ]
  },
  {
   "cell_type": "markdown",
   "id": "a64555ec",
   "metadata": {},
   "source": [
    "### elif Statement\n",
    "Checks multiple conditions in sequence.\n"
   ]
  },
  {
   "cell_type": "code",
   "execution_count": null,
   "id": "086de423",
   "metadata": {},
   "outputs": [],
   "source": [
    "x = 5\n",
    "if x > 5:\n",
    "    print(\"x is greater than 5\")\n",
    "elif x == 5:\n",
    "    print(\"x is equal to 5\")\n",
    "else:\n",
    "    print(\"x is less than 5\")"
   ]
  },
  {
   "cell_type": "code",
   "execution_count": 65,
   "id": "e15fa9eb",
   "metadata": {},
   "outputs": [
    {
     "name": "stdout",
     "output_type": "stream",
     "text": [
      "whoopsy daisy, error!!\n"
     ]
    }
   ],
   "source": [
    "# Your code here- write a conditional statement that checks if x is less than 3,\n",
    "# between 3 and 10, or greater than 10, and prints an appropriate message\n",
    "x = int(input(\"Your number here: \"))\n",
    "if x not in(1, 2, 3, 4, 5, 6, 7, 8, 9, 10):\n",
    "    print(\"whoopsy daisy, error!!\")\n",
    "elif x < 3:\n",
    "    print(\"Your number,\", str(x) + \", is less than 3\")\n",
    "elif 3 < x <= 10:\n",
    "    print(\"Your number,\", str(x) + \", is between 3 and 10\")\n",
    "else:\n",
    "    print(\"Sorry, I can't count higher than 10.\")"
   ]
  },
  {
   "cell_type": "markdown",
   "id": "a1babeea",
   "metadata": {},
   "source": [
    "## Nested Condition"
   ]
  },
  {
   "cell_type": "markdown",
   "id": "8872c898",
   "metadata": {},
   "source": [
    "### Nested Condition\n",
    "Conditions inside other conditions.\n"
   ]
  },
  {
   "cell_type": "code",
   "execution_count": 66,
   "id": "aff0a886",
   "metadata": {},
   "outputs": [
    {
     "name": "stdout",
     "output_type": "stream",
     "text": [
      "x is between 5 and 15\n"
     ]
    }
   ],
   "source": [
    "x = 10\n",
    "if x > 5:\n",
    "    if x < 15:\n",
    "        print(\"x is between 5 and 15\")"
   ]
  },
  {
   "cell_type": "code",
   "execution_count": 73,
   "id": "c9e2e3ee",
   "metadata": {},
   "outputs": [
    {
     "name": "stdout",
     "output_type": "stream",
     "text": [
      "sorry, don't have that many fingers\n"
     ]
    }
   ],
   "source": [
    "# Write a conditional statement that checks if x is \n",
    "# between 3 and 10, and prints an appropriate message.\n",
    "# You must use nested conditonal statements\n",
    "x = 11\n",
    "if x > 3:\n",
    "    if x <= 10:\n",
    "        print(\"x is between 3 and 10\")\n",
    "    else:\n",
    "        print(\"sorry, don't have that many fingers\")\n"
   ]
  },
  {
   "cell_type": "markdown",
   "id": "3906589c",
   "metadata": {},
   "source": [
    "## Recursion"
   ]
  },
  {
   "cell_type": "markdown",
   "id": "b2e55c5a",
   "metadata": {},
   "source": [
    "### Recursion Example: Countdown\n",
    "A function calling itself to count down.\n"
   ]
  },
  {
   "cell_type": "code",
   "execution_count": null,
   "id": "60af33c6",
   "metadata": {},
   "outputs": [],
   "source": [
    "def countdown(n):\n",
    "    if n <= 0:\n",
    "        print(\"Blastoff!\")\n",
    "    else:\n",
    "        print(n)\n",
    "        countdown(n - 1)\n",
    "\n",
    "countdown(5) # Change the number to see how it works"
   ]
  },
  {
   "cell_type": "code",
   "execution_count": null,
   "id": "aa374f7d",
   "metadata": {},
   "outputs": [],
   "source": [
    "# Your code here to print out "
   ]
  },
  {
   "cell_type": "markdown",
   "id": "6268224f",
   "metadata": {},
   "source": [
    "## Review of Conditionals and Recursion\n",
    "Conditionals allow branching logic using `if`, `elif`, and `else`. Recursion is when a function calls itself.\n"
   ]
  },
  {
   "cell_type": "code",
   "execution_count": null,
   "id": "8b6b1d41",
   "metadata": {},
   "outputs": [],
   "source": [
    "# This example compute factorial using a loop. \n",
    "def factorial_iterative(n):\n",
    "    result = 1\n",
    "    for i in range(1, n + 1):\n",
    "        result *= i\n",
    "    return result\n",
    "\n",
    "factorial_iterative(5) # Change the argument to compute factorial of different numbers."
   ]
  },
  {
   "cell_type": "code",
   "execution_count": null,
   "id": "f281abf7",
   "metadata": {},
   "outputs": [],
   "source": [
    "# The example of a recursive function to compute factorial.\n",
    "\n",
    "def factorial_recursive(n):\n",
    "    if n == 0:\n",
    "        return 1\n",
    "    else:\n",
    "        return n * factorial_recursive(n - 1) # Recursive call\n",
    "\n",
    "factorial_recursive(5) # Change the argument to compute factorial of different numbers."
   ]
  },
  {
   "cell_type": "markdown",
   "id": "8a1a8d33",
   "metadata": {},
   "source": [
    "## Infinite Recursion"
   ]
  },
  {
   "cell_type": "markdown",
   "id": "079f9d61",
   "metadata": {},
   "source": [
    "### Infinite Recursion Error\n",
    "Occurs when recursion has no base case.\n"
   ]
  },
  {
   "cell_type": "code",
   "execution_count": null,
   "id": "41f7cf26",
   "metadata": {},
   "outputs": [],
   "source": [
    "# Uncomment to see the error\n",
    "# def recurse():\n",
    "    # return recurse()\n",
    "# recurse()"
   ]
  },
  {
   "cell_type": "markdown",
   "id": "b218431d",
   "metadata": {},
   "source": [
    "## Keyboard Input"
   ]
  },
  {
   "cell_type": "markdown",
   "id": "1e2899cd",
   "metadata": {},
   "source": [
    "### Keyboard Input\n",
    "Use `input()` to get user input.\n"
   ]
  },
  {
   "cell_type": "code",
   "execution_count": 13,
   "id": "a49c6057",
   "metadata": {},
   "outputs": [],
   "source": [
    "# Uncomment to run interactively\n",
    "# name = input(\"Enter your name: \")\n",
    "# print(\"Hello,\", name)"
   ]
  },
  {
   "cell_type": "code",
   "execution_count": null,
   "id": "1335a581",
   "metadata": {},
   "outputs": [],
   "source": [
    "# Uncomment to see what happens. What's the difference from above? \n",
    "# How would you fix the code to get the same output as above?\n",
    "# name = input('What...is your name?\\n')\n",
    "# name\n"
   ]
  }
 ],
 "metadata": {
  "kernelspec": {
   "display_name": "base",
   "language": "python",
   "name": "python3"
  },
  "language_info": {
   "codemirror_mode": {
    "name": "ipython",
    "version": 3
   },
   "file_extension": ".py",
   "mimetype": "text/x-python",
   "name": "python",
   "nbconvert_exporter": "python",
   "pygments_lexer": "ipython3",
   "version": "3.13.5"
  }
 },
 "nbformat": 4,
 "nbformat_minor": 5
}
