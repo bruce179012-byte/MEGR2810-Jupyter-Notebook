{
 "cells": [
  {
   "cell_type": "markdown",
   "id": "7e1b02ed",
   "metadata": {},
   "source": [
    "## Sorting\n",
    "Python lists can be sorted using the built-in `sorted()` function or the `.sort()` method."
   ]
  },
  {
   "cell_type": "code",
   "execution_count": null,
   "id": "329f93ea",
   "metadata": {},
   "outputs": [],
   "source": [
    "numbers = [5, 2, 9, 1, 5, 6]\n",
    "print(\"Original:\", numbers)\n",
    "\n",
    "# numbers.sort()\n",
    "sorted_numbers = sorted(numbers) # uncomment this line if you want to use sorted() instead of sort()\n",
    "\n",
    "# print(\"Sorted:  \", numbers)\n",
    "print(\"Sorted:  \", sorted_numbers)\n",
    "print(\"Sorted:  \", sorted_numbers[::-1]) # when you uncomment sorted_numbers"
   ]
  },
  {
   "cell_type": "markdown",
   "id": "f285b240",
   "metadata": {},
   "source": [
    "#### Exercise\n",
    "Make an array with 10 elements and sort them. You need to use both sorted() function and .sort() method. And print results from both methods."
   ]
  },
  {
   "cell_type": "code",
   "execution_count": 1,
   "id": "905bd865",
   "metadata": {},
   "outputs": [
    {
     "name": "stdout",
     "output_type": "stream",
     "text": [
      "Orignal list: [55, 96, 92, 40, 21, 81, 2, 93, 14, 100]\n",
      "Sorted(): [2, 14, 21, 40, 55, 81, 92, 93, 96, 100]\n",
      ".Sort(): [2, 14, 21, 40, 55, 81, 92, 93, 96, 100]\n"
     ]
    }
   ],
   "source": [
    "# Your code here.\n",
    "import random\n",
    "import numpy\n",
    "# array = np.random.rand(10)\n",
    "numbers = random.sample(range(1,101), 10)\n",
    "# print(numbers)\n",
    "sorted_numbers = sorted(numbers)\n",
    "print(\"Orignal list:\", numbers)\n",
    "print(\"Sorted():\", sorted_numbers)\n",
    "numbers.sort()\n",
    "print(\".Sort():\", numbers)"
   ]
  },
  {
   "cell_type": "markdown",
   "id": "a2ab6024",
   "metadata": {},
   "source": [
    "### Lambda Functions in Python\n",
    "A `lambda` function in Python is an anonymous, single-expression function. It is defined using the `lambda` keyword and allows for the creation of small, inline functions without needing to use the def keyword or assign a name. `lambda` functions are particularly useful in situations where a small, one-off function is needed as an argument to a higher-order function (a function that takes other functions as arguments). We will discuss more in future lectures. "
   ]
  },
  {
   "cell_type": "code",
   "execution_count": 27,
   "id": "fbc773ae",
   "metadata": {},
   "outputs": [
    {
     "name": "stdout",
     "output_type": "stream",
     "text": [
      "25\n"
     ]
    }
   ],
   "source": [
    "square = lambda x: x**2\n",
    "print(square(5))  # Output: 25"
   ]
  },
  {
   "cell_type": "code",
   "execution_count": 42,
   "id": "8b5dc206",
   "metadata": {},
   "outputs": [
    {
     "name": "stdout",
     "output_type": "stream",
     "text": [
      "10000000000000000000000000000000000000000000000000000000000000000000\n",
      "10\n",
      "122\n"
     ]
    }
   ],
   "source": [
    "# something to the 67th power\n",
    "sixty_seventh_power = lambda x: x**67\n",
    "print(sixty_seventh_power(10))\n",
    "# now can we lambda a function changed lambda?\n",
    "sixty_eigth_power = lambda x: x**1\n",
    "print(sixty_eigth_power(10))\n",
    "# no we can't, value is local to your function variable, not global\n",
    "# function within lambda?\n",
    "rounded_and_absolute = lambda y: abs(round(y))\n",
    "print(rounded_and_absolute(-122.213123))\n",
    "# yup works"
   ]
  },
  {
   "cell_type": "markdown",
   "id": "1a4b1196",
   "metadata": {},
   "source": [
    "#### Exercise\n",
    "Write a lambda function that returns the cube of a number."
   ]
  },
  {
   "cell_type": "code",
   "execution_count": 43,
   "id": "1e570775",
   "metadata": {},
   "outputs": [
    {
     "name": "stdout",
     "output_type": "stream",
     "text": [
      "1.8705567883372342e+18\n"
     ]
    }
   ],
   "source": [
    "# Your code here\n",
    "xi = input()\n",
    "x = float(xi)\n",
    "cubed = lambda x: x**3\n",
    "print(cubed(x))\n"
   ]
  },
  {
   "cell_type": "markdown",
   "id": "d424f1f7",
   "metadata": {},
   "source": [
    "### Sort a list of tuples using a *lambda* function\n",
    "This section is optional and challenging, so do what you can. "
   ]
  },
  {
   "cell_type": "code",
   "execution_count": null,
   "id": "62b9ca15",
   "metadata": {},
   "outputs": [
    {
     "name": "stdout",
     "output_type": "stream",
     "text": [
      "Sorted by first element: [(1, 'apple'), (2, 'orange'), (3, 'banana'), (4, 'lychee'), (5, 'cherry'), (6, 'coconut')]\n",
      "Sorted by second element: [(1, 'apple'), (3, 'banana'), (5, 'cherry'), (6, 'coconut'), (4, 'lychee'), (2, 'orange')]\n"
     ]
    }
   ],
   "source": [
    "# Sort a list of tuples using .sort() method.\n",
    "my_list = [(1, 'apple'), (2, 'orange'), (3, 'banana'), (4, 'lychee'), (5, 'cherry'), (6, 'coconut')] # List of tuples\n",
    "my_list.sort(key= lambda item: item[0]) # Sorts by the first element of each tuple\n",
    "print(\"Sorted by first element:\", my_list)\n",
    "my_list.sort(key= lambda item: item[1]) # sorts item alphabetically, from A-Z\n",
    "print(\"Sorted by second element:\", my_list)\n",
    "# You should change the list and print out the sorted list based on different elements."
   ]
  },
  {
   "cell_type": "code",
   "execution_count": 7,
   "id": "5782c1b0",
   "metadata": {},
   "outputs": [
    {
     "name": "stdout",
     "output_type": "stream",
     "text": [
      "Original items (dict): {'Milk': 4.5, 'Bread': 3.2, 'Eggs': 6.0, 'Cheese': 8.5, 'Fruits': 12.0, 'Vegetables': 10.0, 'Snacks': 9.0, 'Beverages': 7.5}\n",
      "Sorted keys: ['Beverages', 'Bread', 'Cheese', 'Eggs', 'Fruits', 'Milk', 'Snacks', 'Vegetables']\n",
      "Items sorted by value (ascending): [('Bread', 3.2), ('Milk', 4.5), ('Eggs', 6.0), ('Beverages', 7.5), ('Cheese', 8.5), ('Snacks', 9.0), ('Vegetables', 10.0), ('Fruits', 12.0)]\n",
      "Items sorted by value (decending): [('Fruits', 12.0), ('Vegetables', 10.0), ('Snacks', 9.0), ('Cheese', 8.5), ('Beverages', 7.5), ('Eggs', 6.0), ('Milk', 4.5), ('Bread', 3.2)]\n"
     ]
    }
   ],
   "source": [
    "# Sort a dictionary using only the built-in sorted() function.\n",
    "# Show the original dictionary, the sorted keys, and items sorted by value.\n",
    "\n",
    "items = {'Milk': 4.5, 'Bread': 3.2, 'Eggs': 6.0, 'Cheese': 8.5, 'Fruits': 12.0, 'Vegetables': 10.0, 'Snacks': 9.0, 'Beverages': 7.5}\n",
    "\n",
    "# Print the original dictionary\n",
    "print(\"Original items (dict):\", items)\n",
    "\n",
    "# sorted() on a dict returns a sorted list of keys by default\n",
    "sorted_keys = sorted(items)\n",
    "print(\"Sorted keys:\", sorted_keys)\n",
    "\n",
    "# To sort by values, use sorted() on items() with a key function (still using only sorted())\n",
    "sorted_by_value = sorted(items.items(), key=lambda kv: kv[1]) # Always acending. Need to use lambda function. \n",
    "sorted_by_value_decending = sorted(items.items(), key= lambda kv:kv[1], reverse = True) # Need to add reverse = True\n",
    "print(\"Items sorted by value (ascending):\", sorted_by_value)\n",
    "print(\"Items sorted by value (decending):\", sorted_by_value_decending)"
   ]
  },
  {
   "cell_type": "markdown",
   "id": "6c19290e",
   "metadata": {},
   "source": [
    "## Use NumPy to creating arrays: `array`, `linspace`, `arange`, helpers"
   ]
  },
  {
   "cell_type": "code",
   "execution_count": null,
   "id": "8c1040d7",
   "metadata": {},
   "outputs": [
    {
     "name": "stdout",
     "output_type": "stream",
     "text": [
      "a      = [1.2 3.5 5.4 7.1]\n",
      "lin    = [0.  0.5 1.  1.5 2.  2.5 3.  3.5 4.  4.5 5. ]\n",
      "arange = [0.  0.5 1.  1.5 2.  2.5 3.  3.5 4.  4.5]\n",
      "zeros:\n",
      "[[0. 0. 0.]\n",
      " [0. 0. 0.]\n",
      " [0. 0. 0.]]\n",
      "ones:\n",
      "[[1. 1.]\n",
      " [1. 1.]\n",
      " [1. 1.]]\n",
      "eye:\n",
      "[[1. 0. 0.]\n",
      " [0. 1. 0.]\n",
      " [0. 0. 1.]]\n",
      "[[2. 0. 0.]\n",
      " [0. 2. 0.]\n",
      " [0. 0. 2.]]\n"
     ]
    }
   ],
   "source": [
    "# Please note that I intentionally did not add comments. \n",
    "# Add comments to code in this notebook.\n",
    "\n",
    "import numpy as np\n",
    "\n",
    "# 1D arrays\n",
    "a = np.array([1.2, 3.5, 5.4, 7.1], dtype=float) # creates a specified array, dtype=float tells NumPy that all the elements(#)\n",
    "# are stored as floats, even if they are integers\n",
    "x_lin = np.linspace(0.0, 5.0, 11) # inclusive ends      # basically: [starting value, end value, number of elements]\n",
    "x_rng = np.arange(0.0, 5.0, .5) # half-open [start, end)       # like above but: [start, end, step size] *INDEXED!\n",
    "# all the above are arrays, which reminder, are a collection of elements of the same type. Indexing starts at 0.\n",
    "print('a      =', a)\n",
    "print('lin    =', x_lin)\n",
    "print('arange =', x_rng)\n",
    "\n",
    "# 2D helpers\n",
    "Z = np.zeros((3,3)) # can imagine it as creating a zero/null matrix. (rows, columns) does not index, so can't start at 0\n",
    "O = np.ones((3,2)) # like the above, but the matrix is entirely ones. Don't recall this from linear algebra, but neat\n",
    "I = np.eye(3) # creates the identity matrix, interesting that it's referred to as \"eye\"\n",
    "print('zeros:') \n",
    "print(Z)\n",
    "print('ones:')  \n",
    "print(O)\n",
    "print('eye:')\n",
    "print(I)\n",
    "print(2*I) # twice the value of a identity matrix, which I can remember."
   ]
  },
  {
   "cell_type": "markdown",
   "id": "c0399332",
   "metadata": {},
   "source": [
    "### Exercise\n",
    "Use `array`, `linspace`, `arange`, `zeros`, `ones`, and `eye` to create at least one matrix with each function"
   ]
  },
  {
   "cell_type": "code",
   "execution_count": 40,
   "id": "d8c444fe",
   "metadata": {},
   "outputs": [
    {
     "name": "stdout",
     "output_type": "stream",
     "text": [
      "array A:\n",
      "[[9 8 7]\n",
      " [6 5 4]\n",
      " [3 2 1]]\n",
      "linspace B: [1. 2. 3. 4. 5. 6. 7. 8. 9.]\n",
      "arange C: [1 2 3 4 5 6 7 8 9]\n",
      "zeros X:\n",
      "[[0. 0. 0.]\n",
      " [0. 0. 0.]\n",
      " [0. 0. 0.]]\n",
      "ones Y:\n",
      "[[1. 1. 1.]\n",
      " [1. 1. 1.]\n",
      " [1. 1. 1.]]\n",
      "eye Z:\n",
      "[[1. 0. 0.]\n",
      " [0. 1. 0.]\n",
      " [0. 0. 1.]]\n"
     ]
    }
   ],
   "source": [
    "# Your code here\n",
    "import numpy as np\n",
    "a = np.array([[9, 8, 7],[6, 5, 4],[3, 2, 1]]) # 3x3 array, given elements\n",
    "b = np.linspace(1, 9, 9) # creates elements and array based off input: (intital value, end value, number of elements)\n",
    "# for linspace, end value is included\n",
    "c = np.arange(1, 10, 1) # like above, but: (starting value, one before ending value, step size)\n",
    "# for arange, end value is excluded\n",
    "print(\"array A:\")\n",
    "print(a)\n",
    "print(\"linspace B:\", b)\n",
    "print(\"arange C:\", c)\n",
    "x = np.zeros((3,3))\n",
    "y = np.ones((3,3))\n",
    "z = np.eye(3)\n",
    "print(\"zeros X:\")\n",
    "print(x)\n",
    "print(\"ones Y:\")\n",
    "print(y)\n",
    "print(\"eye Z:\")\n",
    "print(z)"
   ]
  },
  {
   "cell_type": "markdown",
   "id": "07b7fd76",
   "metadata": {},
   "source": [
    "### Use append to add elements to an array"
   ]
  },
  {
   "cell_type": "code",
   "execution_count": 47,
   "id": "c962a72d",
   "metadata": {},
   "outputs": [
    {
     "name": "stdout",
     "output_type": "stream",
     "text": [
      "[1 2 3]\n",
      "[1 2 3 4 5]\n",
      "[1 2 3 4 5 6 7]\n",
      "[1 2 3 4 5 6 7 9 8 6]\n"
     ]
    }
   ],
   "source": [
    "import numpy as np\n",
    "\n",
    "# Existing array\n",
    "old_arr = np.array([1, 2, 3])\n",
    "print(old_arr)\n",
    "\n",
    "# Append elements\n",
    "new_arr = np.append(old_arr, [4, 5])\n",
    "print(new_arr)\n",
    "\n",
    "# Try to add more elements to new_array using append and print them out.\n",
    "new_arr2 = np.append(new_arr, [6, 7]) # works like above, (array you want to appened [add on to], [elements])\n",
    "print(new_arr2)\n",
    "new_arr3 = np.append(new_arr2, [9, 8, 6]) # order doesn't matter, but you can't do a list like (arr, [elements], [elements2])\n",
    "print(new_arr3)"
   ]
  },
  {
   "cell_type": "markdown",
   "id": "8bc62dc7",
   "metadata": {},
   "source": [
    "#### Exercise\n",
    "Use append to add 10 elements (of your choice) to arrays made by linspace. You MUST use a loop to complete this exercise."
   ]
  },
  {
   "cell_type": "code",
   "execution_count": 67,
   "id": "72164436",
   "metadata": {},
   "outputs": [
    {
     "name": "stdout",
     "output_type": "stream",
     "text": [
      "Old array: [0. 1. 2. 3. 4. 5.]\n",
      "New array: [0. 1. 2. 3. 4. 5. 6.]\n",
      "New array: [0. 1. 2. 3. 4. 5. 6. 7.]\n",
      "New array: [0. 1. 2. 3. 4. 5. 6. 7. 8.]\n",
      "New array: [0. 1. 2. 3. 4. 5. 6. 7. 8. 9.]\n",
      "New array: [ 0.  1.  2.  3.  4.  5.  6.  7.  8.  9. 10.]\n",
      "New array: [ 0.  1.  2.  3.  4.  5.  6.  7.  8.  9. 10. 11.]\n",
      "New array: [ 0.  1.  2.  3.  4.  5.  6.  7.  8.  9. 10. 11. 12.]\n",
      "New array: [ 0.  1.  2.  3.  4.  5.  6.  7.  8.  9. 10. 11. 12. 13.]\n",
      "New array: [ 0.  1.  2.  3.  4.  5.  6.  7.  8.  9. 10. 11. 12. 13. 14.]\n",
      "New array: [ 0.  1.  2.  3.  4.  5.  6.  7.  8.  9. 10. 11. 12. 13. 14. 15.]\n"
     ]
    }
   ],
   "source": [
    "# Your code here. \n",
    "import numpy as np\n",
    "old_array = np.linspace(0, 5, 6)\n",
    "print(\"Old array:\", old_array)\n",
    "for x in range(6,16):\n",
    "    old_array = np.append(old_array, x)\n",
    "    print(\"New array:\", old_array)\n",
    "# created linspace array from 0 to 5, append old array using for loop "
   ]
  },
  {
   "cell_type": "markdown",
   "id": "c39cf7b8",
   "metadata": {},
   "source": [
    "#### Exercise\n",
    "Use a loop and append to add elements to array append_arr, whose dimensions are not declared intially.\n"
   ]
  },
  {
   "cell_type": "code",
   "execution_count": 79,
   "id": "ade891c5",
   "metadata": {},
   "outputs": [
    {
     "name": "stdout",
     "output_type": "stream",
     "text": [
      "[]\n",
      "[1]\n",
      "[1, 2]\n",
      "[1, 2, 3]\n",
      "[1, 2, 3, 4]\n",
      "[1, 2, 3, 4, 5]\n",
      "[1, 2, 3, 4, 5, 6]\n",
      "[1, 2, 3, 4, 5, 6, 7]\n",
      "[1, 2, 3, 4, 5, 6, 7, 8]\n",
      "[1, 2, 3, 4, 5, 6, 7, 8, 9]\n",
      "[1, 2, 3, 4, 5, 6, 7, 8, 9, 10]\n"
     ]
    }
   ],
   "source": [
    "# Your code here\n",
    "import numpy as np\n",
    "append_arr = []\n",
    "print(append_arr)\n",
    "for x in range(10):\n",
    "    x += 1\n",
    "    append_arr.append(x)\n",
    "    print(append_arr)\n",
    "\n",
    "# created an intital array that was empty, loop appends starting from 1 until x reaches 10"
   ]
  },
  {
   "cell_type": "markdown",
   "id": "9a0a315a",
   "metadata": {},
   "source": [
    "## Basic 2D Plotting"
   ]
  },
  {
   "cell_type": "code",
   "execution_count": 1,
   "id": "1fd7a30f",
   "metadata": {},
   "outputs": [
    {
     "data": {
      "image/png": "[encoded data removed]",
      "text/plain": [
       "<Figure size 640x480 with 1 Axes>"
      ]
     },
     "metadata": {},
     "output_type": "display_data"
    }
   ],
   "source": [
    "# Try comment out the lines of code below and run it to see the plot\n",
    "# So you can see how the plot changes\n",
    "# Add comments to explain what each line does\n",
    "import matplotlib.pyplot as plt\n",
    "import numpy as np\n",
    "x = np.linspace(-5, 5, 100) # Change the range and number of points to see what happens\n",
    "y = x**2\n",
    "plt.plot(x, y)\n",
    "plt.title(\"Parabola: $y=x^2$\")\n",
    "plt.xlabel(\"x-axis\")\n",
    "plt.ylabel(\"y-axis\")\n",
    "plt.grid()\n",
    "# plt.xlim(0, 5)  # Uncomment to limit x-axis from 0 to 5\n",
    "# plt.ylim(0, 25) # Uncomment to limit y-axis from 0 to 25\n",
    "plt.axhline(0, color='red',linewidth=0.5, ls='--')\n",
    "plt.show()"
   ]
  },
  {
   "cell_type": "markdown",
   "id": "58ef2db9",
   "metadata": {},
   "source": [
    "#### Exercise\n",
    "Make a 2D plot for a function of your choice. i.e., Make up a function y= f(x) and plot it. "
   ]
  },
  {
   "cell_type": "code",
   "execution_count": null,
   "id": "bf40579a",
   "metadata": {},
   "outputs": [],
   "source": [
    "# Your code here\n"
   ]
  },
  {
   "cell_type": "markdown",
   "id": "f0fee40a",
   "metadata": {},
   "source": [
    "## Multiple 2D Plot Types"
   ]
  },
  {
   "cell_type": "code",
   "execution_count": null,
   "id": "ce3eacd6",
   "metadata": {},
   "outputs": [],
   "source": [
    "# Try comment out the lines of code below and run it to see the plot\n",
    "# So you can see how the plot changes\n",
    "# Add comments to explain what each line does\n",
    "import matplotlib.pyplot as plt\n",
    "import numpy as np\n",
    "x = np.arange(0, 11)\n",
    "# y= x**2\n",
    "y = np.power(x, 2)\n",
    "\n",
    "plt.figure(figsize=(14, 8))\n",
    "plt.subplot(2, 3, 1); plt.plot(x, y); plt.title('Plot'); plt.grid()\n",
    "plt.subplot(2, 3, 2); plt.scatter(x, y); plt.title('Scatter'); plt.grid()\n",
    "plt.subplot(2, 3, 3); plt.bar(x, y); plt.title('Bar'); plt.grid()\n",
    "plt.subplot(2, 3, 4); plt.loglog(x, y); plt.title('Loglog'); plt.grid()\n",
    "plt.subplot(2, 3, 5); plt.semilogx(x, y); plt.title('Semilogx'); plt.grid()\n",
    "plt.subplot(2, 3, 6); plt.semilogy(x, y); plt.title('Semilogy'); plt.grid()\n",
    "plt.tight_layout()\n",
    "plt.show()\n"
   ]
  },
  {
   "cell_type": "markdown",
   "id": "58997f45",
   "metadata": {},
   "source": [
    "#### Exercise\n",
    "Write a function that returns y = sin(x) + cos(2x).\n",
    "Plot results from -10 to 10 in a line plot"
   ]
  },
  {
   "cell_type": "code",
   "execution_count": null,
   "id": "5b0b622d",
   "metadata": {},
   "outputs": [],
   "source": [
    "# Your code here.\n"
   ]
  },
  {
   "cell_type": "markdown",
   "id": "eccacedd",
   "metadata": {},
   "source": [
    "#### Exercise\n",
    "Plot function f(x) = sin(x) + cos(2x)\n",
    "Create a subplot comparing line, scatter, and bar using subplots."
   ]
  },
  {
   "cell_type": "code",
   "execution_count": null,
   "id": "3e9cd2d1",
   "metadata": {},
   "outputs": [],
   "source": [
    "# Your code here"
   ]
  },
  {
   "cell_type": "markdown",
   "id": "f34bcb9f",
   "metadata": {},
   "source": [
    "#### Exercise\n",
    "Recall lecture 4 exercises. Combine your code for the Simple Harmonic Motion Tracker and plot the results. \n",
    "Problems like this will appear in exams. "
   ]
  },
  {
   "cell_type": "code",
   "execution_count": null,
   "id": "318d95b5",
   "metadata": {},
   "outputs": [],
   "source": [
    "# Your code here\n",
    "# The following code has errors. Please fix them.\n",
    "import math\n",
    "\n",
    "A = 1  # amplitude in meters\n",
    "frequency = 0.01 # in Hz \n",
    "omega = 2 * math.pi * frequency  # angular frequency in rad/s\n",
    "time_steps = range(0, 11)  # time from 0 to xx seconds. You can change xx.\n",
    "\n",
    "# Loop through time steps\n",
    "for t in time_steps:\n",
    "    # Your code here\n",
    "    x = A * math.cos(omega * t)\n",
    "    print(f\"At t= {t}, x(t)= {x: .4f}\")"
   ]
  },
  {
   "cell_type": "markdown",
   "id": "98bb663b",
   "metadata": {},
   "source": [
    "## 3D Plotting Examples\n",
    "This section is optional. Proceed if you are interested."
   ]
  },
  {
   "cell_type": "code",
   "execution_count": null,
   "id": "a7818262",
   "metadata": {},
   "outputs": [],
   "source": [
    "# Create a 3D parametric plot for x=cos⁡(t),y=sin⁡(t),z=t\n",
    "import numpy as np\n",
    "import matplotlib.pyplot as plt\n",
    "\n",
    "\n",
    "fig = plt.figure()\n",
    "ax = fig.add_subplot(111, projection='3d')\n",
    "t = np.linspace(0, 10*np.pi, 500)\n",
    "x = np.sin(t)\n",
    "y = np.cos(t)\n",
    "ax.plot3D(x, y, t)\n",
    "ax.set_title(\"3D Parametric Plot\")\n",
    "plt.show()\n"
   ]
  },
  {
   "cell_type": "code",
   "execution_count": null,
   "id": "bf7906fe",
   "metadata": {},
   "outputs": [],
   "source": [
    "# 3D surface plot of Z=exp(−X^2−Y^2)- Gaussian Function\n",
    "import numpy as np\n",
    "import matplotlib.pyplot as plt\n",
    "from mpl_toolkits.mplot3d import Axes3D\n",
    "\n",
    "# Create grid\n",
    "x = np.linspace(-5, 5, 100)\n",
    "y = np.linspace(-5, 5, 100)\n",
    "X, Y = np.meshgrid(x, y)\n",
    "\n",
    "# Compute Z\n",
    "Z = np.exp(-X**2 - Y**2) # Z=exp(−X^2−Y^2)- Gaussian Function\n",
    "\n",
    "# Plot\n",
    "fig = plt.figure(figsize=(10, 8))\n",
    "ax = fig.add_subplot(111, projection='3d')\n",
    "surf = ax.plot_surface(X, Y, Z, cmap='viridis')\n",
    "\n",
    "# Labels and title\n",
    "ax.set_title('z = exp(-x² - y²))')\n",
    "ax.set_xlabel('X')\n",
    "ax.set_ylabel('Y')\n",
    "ax.set_zlabel('Z')\n",
    "\n",
    "# Colorbar\n",
    "fig.colorbar(surf, shrink=0.5, aspect=10)\n",
    "\n",
    "plt.show()\n"
   ]
  },
  {
   "cell_type": "markdown",
   "id": "7eb6b114",
   "metadata": {},
   "source": [
    "#### Optional exercises: "
   ]
  },
  {
   "cell_type": "code",
   "execution_count": null,
   "id": "e17d5b4f",
   "metadata": {},
   "outputs": [],
   "source": [
    "# Your code here. \n",
    "# Make a 3D surface plot for function z=sin(x)⋅cos(y)\n",
    "# Plot range -5 to 5"
   ]
  },
  {
   "cell_type": "code",
   "execution_count": null,
   "id": "fb174fbe",
   "metadata": {},
   "outputs": [],
   "source": [
    "# Your code here\n",
    "# Make a 3D surface plot for function z=sin(sqrt(x^2+y^2)​)\n",
    "# Plot range -6 to 6\n"
   ]
  }
 ],
 "metadata": {
  "kernelspec": {
   "display_name": "base",
   "language": "python",
   "name": "python3"
  },
  "language_info": {
   "codemirror_mode": {
    "name": "ipython",
    "version": 3
   },
   "file_extension": ".py",
   "mimetype": "text/x-python",
   "name": "python",
   "nbconvert_exporter": "python",
   "pygments_lexer": "ipython3",
   "version": "3.13.5"
  }
 },
 "nbformat": 4,
 "nbformat_minor": 5
}
