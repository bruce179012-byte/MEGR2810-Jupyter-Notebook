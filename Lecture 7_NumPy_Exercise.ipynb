{
 "cells": [
  {
   "cell_type": "markdown",
   "id": "b3271b0b",
   "metadata": {},
   "source": [
    "## Why NumPy?\n",
    "\n",
    "- Compact, contiguous arrays of numbers in memory.\n",
    "- Vectorized operations dispatch to optimized C/BLAS under the hood.\n",
    "- Expressive APIs for indexing, broadcasting, and linear algebra.\n",
    "- Foundation for scientific Python (Pandas, SciPy, scikit-learn)."
   ]
  },
  {
   "cell_type": "markdown",
   "id": "45f11f31",
   "metadata": {},
   "source": [
    "### 1) Review- Creating arrays: \n",
    "- Build 1D/2D arrays using `array`, `linspace`, `arange`, and helpers (`zeros`, `ones`, `eye`)."
   ]
  },
  {
   "cell_type": "code",
   "execution_count": null,
   "id": "c797d665",
   "metadata": {},
   "outputs": [],
   "source": [
    "# Add comments to all code in this Notebook\n",
    "# You have seen this code before\n",
    "import numpy as np\n",
    "\n",
    "# 1D arrays\n",
    "a = np.array([1, 3, 5, 7], dtype=float)\n",
    "# 2 x 2 array with all integer elements\n",
    "b = np.array([[1, 2, 3],\n",
    "              [4, 5, 6]], dtype= int)\n",
    "x_lin = np.linspace(0.0, 5.0, 11)     # inclusive ends\n",
    "x_rng = np.arange(0.0, 5.0, 0.5)      # half-open [start, end)\n",
    "\n",
    "print('a =\\n', a)\n",
    "print('b =\\n', b)\n",
    "print('lin    =', x_lin)\n",
    "print('arange =', x_rng)\n",
    "\n",
    "# 2D helpers\n",
    "Z = np.zeros((2,3))\n",
    "O = np.ones((3,2))\n",
    "I = np.eye(3)\n",
    "print('zeros:\\n', Z)\n",
    "print('ones:\\n',  O)\n",
    "print('eye:\\n',   I)\n"
   ]
  },
  {
   "cell_type": "markdown",
   "id": "ce3bba2f",
   "metadata": {},
   "source": [
    "### 2) Vectorization \n",
    "- Example: velocity of a falling object"
   ]
  },
  {
   "cell_type": "code",
   "execution_count": 6,
   "id": "4e051238",
   "metadata": {},
   "outputs": [
    {
     "name": "stdout",
     "output_type": "stream",
     "text": [
      "velocity(1.0) = 9.8\n",
      "t = [0.  0.5 1.  1.5 2.  2.5 3.  3.5 4.  4.5]\n",
      "v = [ 0.   4.9  9.8 14.7 19.6 24.5 29.4 34.3 39.2 44.1]\n"
     ]
    },
    {
     "data": {
      "image/png": "[encoded data removed]",
      "text/plain": [
       "<Figure size 520x320 with 1 Axes>"
      ]
     },
     "metadata": {},
     "output_type": "display_data"
    }
   ],
   "source": [
    "import numpy as np, matplotlib.pyplot as plt\n",
    "\n",
    "def velocity(t):\n",
    "    g = 9.8  # m/s^2\n",
    "    v0 = 0.0\n",
    "    return g * t + v0\n",
    "\n",
    "# Scalar works\n",
    "print('velocity(1.0) =', velocity(1.0))\n",
    "\n",
    "# Vectorized with NumPy\n",
    "# t = np.array([0,1,2,3,4], dtype=int) # Vectorize t in an array\n",
    "# t = np.linspace(0, 4, 20) # Vectorize t in linspace\n",
    "t = np.arange(0.0, 5.0, .5)\n",
    "v = velocity(t)\n",
    "print('t =', t)\n",
    "print('v =', v)\n",
    "\n",
    "plt.figure(figsize=(5.2,3.2))\n",
    "plt.plot(t, v, 'o-', label='v(t) = -9.8 t')\n",
    "# plt.xlim(0, 4)\n",
    "plt.xlabel('t (s)'); plt.ylabel('v (m/s)'); plt.title('Vectorized evaluation')\n",
    "plt.grid(True, alpha=0.3); plt.legend(); plt.tight_layout(); plt.show()\n"
   ]
  },
  {
   "cell_type": "markdown",
   "id": "585111ea",
   "metadata": {},
   "source": [
    "#### Exercise\n",
    "Calculate and plot the distance of a falling object with the same initial velocity above. "
   ]
  },
  {
   "cell_type": "code",
   "execution_count": 8,
   "id": "458ff806",
   "metadata": {},
   "outputs": [
    {
     "name": "stdout",
     "output_type": "stream",
     "text": [
      "t = [0.  0.5 1.  1.5 2.  2.5 3.  3.5 4.  4.5]\n"
     ]
    },
    {
     "ename": "NameError",
     "evalue": "name 'y' is not defined",
     "output_type": "error",
     "traceback": [
      "\u001b[1;31m---------------------------------------------------------------------------\u001b[0m",
      "\u001b[1;31mNameError\u001b[0m                                 Traceback (most recent call last)",
      "Cell \u001b[1;32mIn[8], line 12\u001b[0m\n\u001b[0;32m     10\u001b[0m d \u001b[38;5;241m=\u001b[39m distance(t)\n\u001b[0;32m     11\u001b[0m \u001b[38;5;28mprint\u001b[39m(\u001b[38;5;124m'\u001b[39m\u001b[38;5;124mt =\u001b[39m\u001b[38;5;124m'\u001b[39m, t)\n\u001b[1;32m---> 12\u001b[0m \u001b[38;5;28mprint\u001b[39m(\u001b[38;5;124m'\u001b[39m\u001b[38;5;124my =\u001b[39m\u001b[38;5;124m'\u001b[39m, y)\n\u001b[0;32m     14\u001b[0m plt\u001b[38;5;241m.\u001b[39mfigure(figsize\u001b[38;5;241m=\u001b[39m(\u001b[38;5;241m5.2\u001b[39m,\u001b[38;5;241m3.2\u001b[39m))\n\u001b[0;32m     15\u001b[0m plt\u001b[38;5;241m.\u001b[39mplot(t, y, \u001b[38;5;124m'\u001b[39m\u001b[38;5;124mo-\u001b[39m\u001b[38;5;124m'\u001b[39m, label\u001b[38;5;241m=\u001b[39m\u001b[38;5;124m'\u001b[39m\u001b[38;5;124mv(t) = -9.8 t\u001b[39m\u001b[38;5;124m'\u001b[39m)\n",
      "\u001b[1;31mNameError\u001b[0m: name 'y' is not defined"
     ]
    }
   ],
   "source": [
    "# Your code here\n",
    "import numpy as np, matplotlib.pyplot\n",
    "def distance(t):\n",
    "    g = gravity = 9.8\n",
    "    v0 = 0.0 \n",
    "    h0 = 100\n",
    "    return (-1/2)*g**t + v0*t + h0\n",
    "\n",
    "t = np.arange(0.0, 5.0, .5)\n",
    "d = distance(t)\n",
    "print('t =', t)\n",
    "print('y =', y)\n",
    "\n",
    "plt.figure(figsize=(5.2,3.2))\n",
    "plt.plot(t, y, 'o-', label='v(t) = -9.8 t')\n",
    "# plt.xlim(0, 4)\n",
    "plt.xlabel('t (s)'); plt.ylabel('y (m))'); plt.title('Vectorized evaluation')\n",
    "plt.grid(True, alpha=0.3); plt.legend(); plt.tight_layout(); plt.show()\n"
   ]
  },
  {
   "cell_type": "markdown",
   "id": "24be002a",
   "metadata": {},
   "source": [
    "### 3) Indexing & slicing (1D and 2D)\n",
    "- Use basic **indexing & slicing** (including 2D) and perform in-place assignments."
   ]
  },
  {
   "cell_type": "code",
   "execution_count": null,
   "id": "9a1c0c7c",
   "metadata": {},
   "outputs": [
    {
     "name": "stdout",
     "output_type": "stream",
     "text": [
      "A= [[7. 8. 9.]\n",
      " [4. 5. 6.]] \n",
      "shape = (2, 3)\n",
      "A[1][2] = 6.0\n",
      "A[1,2]  = 6.0\n",
      "Row 0  : [7. 8. 9.]\n",
      "Col 1  : [8. 5.]\n",
      "After A[1,2] = -A[0,0]: [[ 7.  8.  9.]\n",
      " [ 4.  5. -7.]]\n"
     ]
    }
   ],
   "source": [
    "import numpy as np\n",
    "\n",
    "A = np.array([[7., 8., 9.],\n",
    "              [4., 5., 6.]])\n",
    "print('A=', A, '\\nshape =', A.shape)\n",
    "\n",
    "# Two equivalent ways to index a single element\n",
    "print('A[1][2] =', A[1][2])\n",
    "print('A[1,2]  =', A[1,2])\n",
    "\n",
    "# Row / column slicing\n",
    "print('Row 0  :', A[0, :])\n",
    "print('Col 1  :', A[:, 1])\n",
    "\n",
    "print('Row 1 :', A)\n",
    "# In-place assignment\n",
    "A[1, 2] = -A[0, 0] # replaces row 2 column 3 #6 with negative row 1 column 1 #7.\n",
    "print('After A[1,2] = -A[0,0]:', A) \n"
   ]
  },
  {
   "cell_type": "code",
   "execution_count": 16,
   "id": "02e88dc3",
   "metadata": {},
   "outputs": [
    {
     "name": "stdout",
     "output_type": "stream",
     "text": [
      "o\n",
      " \n",
      "Slice:  Ha\n"
     ]
    }
   ],
   "source": [
    "import numpy as np\n",
    "\n",
    "text=\"Happy Halloween!\"\n",
    "print(text[10]) # doesn't print out a range, just prints out the index specified, so o. Space does count as a character.\n",
    "print(text[5]) # see?\n",
    "print(\"Slice:\", text[5:8]) # Prints out slice of str from 5 to 7, not 8. "
   ]
  },
  {
   "cell_type": "markdown",
   "id": "eabbdb50",
   "metadata": {},
   "source": [
    "#### Exercise\n",
    "Make a 3 x 5 array using the function of your choice. \n",
    "Print out 1). a particular row, 2). a particular colum, and 3). a particular element"
   ]
  },
  {
   "cell_type": "code",
   "execution_count": null,
   "id": "4954cde0",
   "metadata": {},
   "outputs": [],
   "source": [
    "# Your code here\n"
   ]
  },
  {
   "cell_type": "markdown",
   "id": "a38d046e",
   "metadata": {},
   "source": [
    "### 4) Broadcasting: eliminating loops\n",
    "- Apply **broadcasting** rules to eliminate loops and generate grids. It works by automatically expanding the smaller array across the larger one so that they have compatible shapes.\n",
    "\n",
    "Examples below build a coordinate grid without explicit loops and compute a distance field."
   ]
  },
  {
   "cell_type": "code",
   "execution_count": null,
   "id": "a995e6cf",
   "metadata": {},
   "outputs": [],
   "source": [
    "import numpy as np, matplotlib.pyplot as plt\n",
    "\n",
    "x = np.linspace(-2, 2, num=10, dtype=float)[:, None]   # shape (10,1) column\n",
    "y = np.linspace(-2, 2, 10, dtype= float)[None, :]   # shape (1,10) row\n",
    "print(x)\n",
    "print(y)\n",
    "X = x + 0*y                             # broadcast to (10,10)\n",
    "Y = 0*x + y                             # broadcast to (10,10)\n",
    "R = np.sqrt(X**2 + Y**2)                # element-wise\n",
    "print(R)\n",
    "plt.figure(figsize=(5,4))\n",
    "plt.contourf(X, Y, R, levels=15, cmap='viridis')\n",
    "plt.colorbar(label='radius')\n",
    "plt.gca().set_aspect('equal', 'box')\n",
    "plt.title('Broadcasted radius grid (no explicit loops)')\n",
    "plt.xlabel('x'); plt.ylabel('y'); plt.tight_layout(); plt.show()\n"
   ]
  },
  {
   "cell_type": "markdown",
   "id": "fc47c4b5",
   "metadata": {},
   "source": [
    "#### Exercise\n",
    "Make up a function similar to the example above and plot it. \n",
    "Try increase the array sizes and see what heppens."
   ]
  },
  {
   "cell_type": "code",
   "execution_count": null,
   "id": "6a15f478",
   "metadata": {},
   "outputs": [],
   "source": [
    "# Your code here. \n"
   ]
  },
  {
   "cell_type": "markdown",
   "id": "5396d757",
   "metadata": {},
   "source": [
    "### 5) Dtypes & precision: float32 vs float64\n",
    "- Choose an appropriate **dtype** and understand precision trade-offs. "
   ]
  },
  {
   "cell_type": "code",
   "execution_count": null,
   "id": "455a8828",
   "metadata": {},
   "outputs": [],
   "source": [
    "import numpy as np\n",
    "\n",
    "# A tiny accumulation example\n",
    "N = 1_000_000_000 # What does this line of code do?\n",
    "x = np.ones(N, dtype=np.float32) / N\n",
    "y = np.ones(N, dtype=np.float64) / N\n",
    "print('sum float32 ≈', x.sum(), ' error=', abs(x.sum()-1.0))\n",
    "print('sum float64 ≈', y.sum(), ' error=', abs(y.sum()-1.0))\n",
    "# Run the code and explain what happens.\n",
    "# Does it take a longer time (compare to other code) to run? Why or why not?"
   ]
  },
  {
   "cell_type": "markdown",
   "id": "d4b8ea0c",
   "metadata": {},
   "source": [
    "#### Exercise\n",
    "Make two arrays using np.array. They have exactly the same elements but different precisions- one of them is float32 and the other one is float 64. Print out the difference of the (third items/1,000,000) in these two arrays. Should it be ZERO?? Why or whynot?"
   ]
  },
  {
   "cell_type": "code",
   "execution_count": null,
   "id": "ed3f8dee",
   "metadata": {},
   "outputs": [],
   "source": [
    "# Your code here\n"
   ]
  },
  {
   "cell_type": "markdown",
   "id": "1d565702",
   "metadata": {},
   "source": [
    "### 6) Reshape & aggregations (axis)"
   ]
  },
  {
   "cell_type": "code",
   "execution_count": null,
   "id": "b67d145d",
   "metadata": {},
   "outputs": [
    {
     "name": "stdout",
     "output_type": "stream",
     "text": [
      "A= [ 0  1  2  3  4  5  6  7  8  9 10 11]\n",
      "B= [[ 0  1  2  3]\n",
      " [ 4  5  6  7]\n",
      " [ 8  9 10 11]]\n",
      "sum over rows (axis=1): [ 6 22 38]\n",
      "mean over cols (axis=0): [4. 5. 6. 7.]\n",
      "C= [[ 0  1  2  3]\n",
      " [ 4  5  6  7]\n",
      " [ 8  9 10 11]]\n",
      "sum over rows (axis=1): [ 6 22 38]\n",
      "mean over cols (axis=0): [4. 5. 6. 7.]\n"
     ]
    }
   ],
   "source": [
    "import numpy as np\n",
    "A = np.arange(12)\n",
    "print('A=', A)\n",
    "C = A.reshape(3,4)\n",
    "B = np.arange(12).reshape(3,4) # What does this line of code do? Can you fix the error?\n",
    "print('B=', B)\n",
    "print('sum over rows (axis=1):', B.sum(axis=1)) # What does this line of code do?\n",
    "print('mean over cols (axis=0):', B.mean(axis=0)) # What does this line of code does?\n",
    "\n",
    "print('C=', C)\n",
    "print('sum over rows (axis=1):', C.sum(axis=1))\n",
    "print('mean over cols (axis=0):', C.mean(axis=0))\n"
   ]
  },
  {
   "cell_type": "markdown",
   "id": "cd617456",
   "metadata": {},
   "source": [
    "#### Exercise\n",
    "Make another array and reshape it. Sum over each row and each colum of this array."
   ]
  },
  {
   "cell_type": "code",
   "execution_count": 53,
   "id": "f901cbb2",
   "metadata": {},
   "outputs": [
    {
     "name": "stdout",
     "output_type": "stream",
     "text": [
      "A: [ 1  2  3  4  5  6  7  8  9 10]\n",
      "sum over rows (axis=1): 55\n",
      "mean over cols (axis=0): 5.5\n",
      "B: [[ 1  2  3  4  5]\n",
      " [ 6  7  8  9 10]]\n",
      "sum over rows (axis=1): [15 40]\n",
      "mean over cols (axis=0): [3.5 4.5 5.5 6.5 7.5]\n"
     ]
    }
   ],
   "source": [
    "# Your code here\n",
    "import numpy as np\n",
    "A = np.arange(1, 11,)\n",
    "print('A:', A)\n",
    "print('sum over rows (axis=1):', A.sum(axis=0))\n",
    "print('mean over cols (axis=0):', A.mean(axis=0))\n",
    "\n",
    "B = A.reshape(2,5)\n",
    "print('B:', B)\n",
    "print('sum over rows (axis=1):', B.sum(axis=1))\n",
    "print('mean over cols (axis=0):', B.mean(axis=0))"
   ]
  },
  {
   "cell_type": "markdown",
   "id": "847e639c",
   "metadata": {},
   "source": [
    "### 7) Quick exercises to connect all the things we have learned so far"
   ]
  },
  {
   "cell_type": "markdown",
   "id": "fd6bdf97",
   "metadata": {},
   "source": [
    "#### Exercise\n",
    "Use NumPy array and matplotlib to plot y= x^3 - 2x. "
   ]
  },
  {
   "cell_type": "code",
   "execution_count": 76,
   "id": "48cbb7a3",
   "metadata": {},
   "outputs": [
    {
     "name": "stdout",
     "output_type": "stream",
     "text": [
      "[-9.80000000e+02 -8.63297266e+02 -7.56182373e+02 -6.58247329e+02\n",
      " -5.69084140e+02 -4.88284813e+02 -4.15441355e+02 -3.50145773e+02\n",
      " -2.91990072e+02 -2.40566261e+02 -1.95466345e+02 -1.56282331e+02\n",
      " -1.22606227e+02 -9.40300385e+01 -7.01457726e+01 -5.05454360e+01\n",
      " -3.48210355e+01 -2.25645777e+01 -1.33680694e+01 -6.82351741e+00\n",
      " -2.52292837e+00 -5.83090379e-02  9.78333857e-01  9.94993583e-01\n",
      "  3.99663406e-01 -3.99663406e-01 -9.94993583e-01 -9.78333857e-01\n",
      "  5.83090379e-02  2.52292837e+00  6.82351741e+00  1.33680694e+01\n",
      "  2.25645777e+01  3.48210355e+01  5.05454360e+01  7.01457726e+01\n",
      "  9.40300385e+01  1.22606227e+02  1.56282331e+02  1.95466345e+02\n",
      "  2.40566261e+02  2.91990072e+02  3.50145773e+02  4.15441355e+02\n",
      "  4.88284813e+02  5.69084140e+02  6.58247329e+02  7.56182373e+02\n",
      "  8.63297266e+02  9.80000000e+02]\n"
     ]
    },
    {
     "data": {
      "image/png": "[encoded data removed]",
      "text/plain": [
       "<Figure size 640x480 with 1 Axes>"
      ]
     },
     "metadata": {},
     "output_type": "display_data"
    }
   ],
   "source": [
    "# Your code here\n",
    "import numpy as np\n",
    "import matplotlib.pyplot as plt\n",
    "x = np.linspace(-10, 10)\n",
    "y = (x**3) - (2*x)\n",
    "print(y)\n",
    "\n",
    "plt.plot(x,y)\n",
    "plt.title(\"Function: $y=x^3$-2x\")\n",
    "plt.xlabel(\"x-axis\")\n",
    "plt.ylabel(\"y-axis\")\n",
    "plt.grid()"
   ]
  },
  {
   "cell_type": "markdown",
   "id": "c17a63d6",
   "metadata": {},
   "source": [
    "#### Exercise\n",
    "The dimensions of your arrays are undeclared initially. Use loops or recrusions to plot the function y= x^3 - 2x. You should get the same plot as above.\n",
    "Hint: Start with a flowchart. You may use append. "
   ]
  },
  {
   "cell_type": "code",
   "execution_count": null,
   "id": "e56ce258",
   "metadata": {},
   "outputs": [],
   "source": [
    "# Your code here"
   ]
  }
 ],
 "metadata": {
  "kernelspec": {
   "display_name": "base",
   "language": "python",
   "name": "python3"
  },
  "language_info": {
   "codemirror_mode": {
    "name": "ipython",
    "version": 3
   },
   "file_extension": ".py",
   "mimetype": "text/x-python",
   "name": "python",
   "nbconvert_exporter": "python",
   "pygments_lexer": "ipython3",
   "version": "3.13.5"
  }
 },
 "nbformat": 4,
 "nbformat_minor": 5
}
